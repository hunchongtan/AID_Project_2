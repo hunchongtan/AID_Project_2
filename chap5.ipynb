{
 "cells": [
  {
   "cell_type": "markdown",
   "metadata": {},
   "source": [
    "# Chapter 5: Identification of Design Opportunities with Classified Sentiment Analysis\n",
    "\n",
    "Dear user, we will classify the social media comments, according to 5 key research categories, \\\n",
    "then perform sentiment analysis to identify the design opportunities with each of these categories."
   ]
  },
  {
   "cell_type": "markdown",
   "metadata": {},
   "source": [
    "## REQUIREMENTS\n",
    "\n",
    "For this notebook, you need to have:\n",
    "- 2 x Pickle files of Scraped data from your Social Media sources (from Chap2.ipynb)"
   ]
  },
  {
   "cell_type": "markdown",
   "metadata": {},
   "source": [
    "## TO DO SECTION"
   ]
  },
  {
   "cell_type": "code",
   "execution_count": 1,
   "metadata": {},
   "outputs": [],
   "source": [
    "'''\n",
    "Dear user, enter your Product here!\n",
    "'''\n",
    "\n",
    "product = \"Scoot 787\""
   ]
  },
  {
   "cell_type": "code",
   "execution_count": 2,
   "metadata": {},
   "outputs": [],
   "source": [
    "\"\"\" Retrieve Search Terms \"\"\"\n",
    "import pandas as pd\n",
    "search_terms = pd.read_pickle(f\"support/{product}/searchTerms.pkl\")\n",
    "\n",
    "'''\n",
    "Dear user, enter your directories to the 2 Pickle files of Scraped data from Social Media!\n",
    "'''\n",
    "\n",
    "youtube = f\"support/{search_terms}/youtube/comment_list.pkl\"\n",
    "reddit = f\"support/{search_terms}/reddit/comment_list.pkl\"\n",
    "\n",
    "\"\"\" Initialise and Establish Dataset \"\"\"\n",
    "import pandas as pd\n",
    "\n",
    "youtube = pd.read_pickle(youtube)\n",
    "reddit = pd.read_pickle(reddit)"
   ]
  },
  {
   "cell_type": "code",
   "execution_count": null,
   "metadata": {},
   "outputs": [],
   "source": [
    "'''\n",
    "Dear user, please include all the social media variables to merge all Social Media Comments!\n",
    "''' \n",
    "combined = youtube + reddit\n",
    "\n",
    "print(\"Total number of comments:\", len(combined))"
   ]
  },
  {
   "cell_type": "code",
   "execution_count": 3,
   "metadata": {},
   "outputs": [],
   "source": [
    "'''\n",
    "Dear user, enter the 5 key categories you want the comments to be classified to!\n",
    "'''\n",
    "\n",
    "classify_candidates = ['Storage', 'Comfort', 'Speed', 'Design', 'Safety']"
   ]
  },
  {
   "cell_type": "markdown",
   "metadata": {},
   "source": [
    "## RUN AS INTENDED (DO NOT CHANGE ANYTHING.)"
   ]
  },
  {
   "cell_type": "markdown",
   "metadata": {},
   "source": [
    "### Set Up"
   ]
  },
  {
   "cell_type": "code",
   "execution_count": 4,
   "metadata": {},
   "outputs": [
    {
     "name": "stdout",
     "output_type": "stream",
     "text": [
      "Requirement already satisfied: accelerate in c:\\users\\tanhu\\appdata\\local\\programs\\python\\python39\\lib\\site-packages (0.28.0)\n",
      "Requirement already satisfied: numpy>=1.17 in c:\\users\\tanhu\\appdata\\local\\programs\\python\\python39\\lib\\site-packages (from accelerate) (1.25.2)\n",
      "Requirement already satisfied: packaging>=20.0 in c:\\users\\tanhu\\appdata\\local\\programs\\python\\python39\\lib\\site-packages (from accelerate) (23.2)\n",
      "Requirement already satisfied: psutil in c:\\users\\tanhu\\appdata\\roaming\\python\\python39\\site-packages (from accelerate) (5.9.6)\n",
      "Requirement already satisfied: pyyaml in c:\\users\\tanhu\\appdata\\local\\programs\\python\\python39\\lib\\site-packages (from accelerate) (6.0.1)\n",
      "Requirement already satisfied: torch>=1.10.0 in c:\\users\\tanhu\\appdata\\local\\programs\\python\\python39\\lib\\site-packages (from accelerate) (2.2.2)\n",
      "Requirement already satisfied: huggingface-hub in c:\\users\\tanhu\\appdata\\local\\programs\\python\\python39\\lib\\site-packages (from accelerate) (0.22.2)\n",
      "Requirement already satisfied: safetensors>=0.3.1 in c:\\users\\tanhu\\appdata\\local\\programs\\python\\python39\\lib\\site-packages (from accelerate) (0.4.2)\n",
      "Requirement already satisfied: filelock in c:\\users\\tanhu\\appdata\\local\\programs\\python\\python39\\lib\\site-packages (from torch>=1.10.0->accelerate) (3.12.0)\n",
      "Requirement already satisfied: typing-extensions>=4.8.0 in c:\\users\\tanhu\\appdata\\local\\programs\\python\\python39\\lib\\site-packages (from torch>=1.10.0->accelerate) (4.11.0)\n",
      "Requirement already satisfied: sympy in c:\\users\\tanhu\\appdata\\local\\programs\\python\\python39\\lib\\site-packages (from torch>=1.10.0->accelerate) (1.12)\n",
      "Requirement already satisfied: networkx in c:\\users\\tanhu\\appdata\\local\\programs\\python\\python39\\lib\\site-packages (from torch>=1.10.0->accelerate) (3.2.1)\n",
      "Requirement already satisfied: jinja2 in c:\\users\\tanhu\\appdata\\local\\programs\\python\\python39\\lib\\site-packages (from torch>=1.10.0->accelerate) (3.1.2)\n",
      "Requirement already satisfied: fsspec in c:\\users\\tanhu\\appdata\\local\\programs\\python\\python39\\lib\\site-packages (from torch>=1.10.0->accelerate) (2023.6.0)\n",
      "Requirement already satisfied: requests in c:\\users\\tanhu\\appdata\\local\\programs\\python\\python39\\lib\\site-packages (from huggingface-hub->accelerate) (2.31.0)\n",
      "Requirement already satisfied: tqdm>=4.42.1 in c:\\users\\tanhu\\appdata\\local\\programs\\python\\python39\\lib\\site-packages (from huggingface-hub->accelerate) (4.66.1)\n",
      "Requirement already satisfied: colorama in c:\\users\\tanhu\\appdata\\local\\programs\\python\\python39\\lib\\site-packages (from tqdm>=4.42.1->huggingface-hub->accelerate) (0.4.6)\n",
      "Requirement already satisfied: MarkupSafe>=2.0 in c:\\users\\tanhu\\appdata\\local\\programs\\python\\python39\\lib\\site-packages (from jinja2->torch>=1.10.0->accelerate) (2.1.3)\n",
      "Requirement already satisfied: charset-normalizer<4,>=2 in c:\\users\\tanhu\\appdata\\local\\programs\\python\\python39\\lib\\site-packages (from requests->huggingface-hub->accelerate) (3.2.0)\n",
      "Requirement already satisfied: idna<4,>=2.5 in c:\\users\\tanhu\\appdata\\local\\programs\\python\\python39\\lib\\site-packages (from requests->huggingface-hub->accelerate) (3.4)\n",
      "Requirement already satisfied: urllib3<3,>=1.21.1 in c:\\users\\tanhu\\appdata\\local\\programs\\python\\python39\\lib\\site-packages (from requests->huggingface-hub->accelerate) (2.0.4)\n",
      "Requirement already satisfied: certifi>=2017.4.17 in c:\\users\\tanhu\\appdata\\local\\programs\\python\\python39\\lib\\site-packages (from requests->huggingface-hub->accelerate) (2023.7.22)\n",
      "Requirement already satisfied: mpmath>=0.19 in c:\\users\\tanhu\\appdata\\local\\programs\\python\\python39\\lib\\site-packages (from sympy->torch>=1.10.0->accelerate) (1.3.0)\n"
     ]
    },
    {
     "name": "stderr",
     "output_type": "stream",
     "text": [
      "DEPRECATION: google-images-search 1.4.6 has a non-standard dependency specifier click>=7.0<=8.1.*. pip 24.1 will enforce this behaviour change. A possible replacement is to upgrade to a newer version of google-images-search or contact the author to suggest that they release a version with a conforming dependency specifiers. Discussion can be found at https://github.com/pypa/pip/issues/12063\n"
     ]
    },
    {
     "name": "stdout",
     "output_type": "stream",
     "text": [
      "Requirement already satisfied: torch in c:\\users\\tanhu\\appdata\\local\\programs\\python\\python39\\lib\\site-packages (2.2.2)\n",
      "Requirement already satisfied: torchvision in c:\\users\\tanhu\\appdata\\local\\programs\\python\\python39\\lib\\site-packages (0.17.2)\n",
      "Requirement already satisfied: torchaudio in c:\\users\\tanhu\\appdata\\local\\programs\\python\\python39\\lib\\site-packages (2.2.2)\n",
      "Requirement already satisfied: filelock in c:\\users\\tanhu\\appdata\\local\\programs\\python\\python39\\lib\\site-packages (from torch) (3.12.0)\n",
      "Requirement already satisfied: typing-extensions>=4.8.0 in c:\\users\\tanhu\\appdata\\local\\programs\\python\\python39\\lib\\site-packages (from torch) (4.11.0)\n",
      "Requirement already satisfied: sympy in c:\\users\\tanhu\\appdata\\local\\programs\\python\\python39\\lib\\site-packages (from torch) (1.12)\n",
      "Requirement already satisfied: networkx in c:\\users\\tanhu\\appdata\\local\\programs\\python\\python39\\lib\\site-packages (from torch) (3.2.1)\n",
      "Requirement already satisfied: jinja2 in c:\\users\\tanhu\\appdata\\local\\programs\\python\\python39\\lib\\site-packages (from torch) (3.1.2)\n",
      "Requirement already satisfied: fsspec in c:\\users\\tanhu\\appdata\\local\\programs\\python\\python39\\lib\\site-packages (from torch) (2023.6.0)\n",
      "Requirement already satisfied: numpy in c:\\users\\tanhu\\appdata\\local\\programs\\python\\python39\\lib\\site-packages (from torchvision) (1.25.2)\n",
      "Requirement already satisfied: pillow!=8.3.*,>=5.3.0 in c:\\users\\tanhu\\appdata\\local\\programs\\python\\python39\\lib\\site-packages (from torchvision) (10.0.0)\n",
      "Requirement already satisfied: MarkupSafe>=2.0 in c:\\users\\tanhu\\appdata\\local\\programs\\python\\python39\\lib\\site-packages (from jinja2->torch) (2.1.3)\n",
      "Requirement already satisfied: mpmath>=0.19 in c:\\users\\tanhu\\appdata\\local\\programs\\python\\python39\\lib\\site-packages (from sympy->torch) (1.3.0)\n"
     ]
    },
    {
     "name": "stderr",
     "output_type": "stream",
     "text": [
      "DEPRECATION: google-images-search 1.4.6 has a non-standard dependency specifier click>=7.0<=8.1.*. pip 24.1 will enforce this behaviour change. A possible replacement is to upgrade to a newer version of google-images-search or contact the author to suggest that they release a version with a conforming dependency specifiers. Discussion can be found at https://github.com/pypa/pip/issues/12063\n"
     ]
    }
   ],
   "source": [
    "! pip install accelerate\n",
    "! pip install torch torchvision torchaudio"
   ]
  },
  {
   "cell_type": "code",
   "execution_count": 5,
   "metadata": {},
   "outputs": [],
   "source": [
    "\"\"\" Create Classify and Sentiment folder \"\"\"\n",
    "import os\n",
    "import shutil\n",
    "\n",
    "# Create \"classify\" folder\n",
    "try:\n",
    "    os.makedirs(f\"support/{search_terms}/classify\")\n",
    "except FileExistsError:\n",
    "    shutil.rmtree(f\"support/{search_terms}/classify\")\n",
    "    os.makedirs(f\"support/{search_terms}/classify\")\n",
    "\n",
    "# Create \"sentiment\" folder\n",
    "try:\n",
    "    os.makedirs(f\"support/{search_terms}/sentiment\")\n",
    "except FileExistsError:\n",
    "    shutil.rmtree(f\"support/{search_terms}/sentiment\")\n",
    "    os.makedirs(f\"support/{search_terms}/sentiment\")"
   ]
  },
  {
   "cell_type": "markdown",
   "metadata": {},
   "source": [
    "### Category Classification Model"
   ]
  },
  {
   "cell_type": "code",
   "execution_count": 8,
   "metadata": {},
   "outputs": [
    {
     "name": "stdout",
     "output_type": "stream",
     "text": [
      "Candidate Counts:\n",
      "Storage: 29\n",
      "Comfort: 358\n",
      "Speed: 147\n",
      "Design: 117\n",
      "Safety: 613\n",
      "Other: 186\n",
      "Detailed results written to respective CSV files.\n"
     ]
    }
   ],
   "source": [
    "\"\"\" Classify comments by candidates \"\"\"\n",
    "import csv\n",
    "from transformers import pipeline\n",
    "import warnings\n",
    "warnings.filterwarnings(\"ignore\")\n",
    "\n",
    "comment_list = combined\n",
    "\n",
    "candidates = classify_candidates + ['Other']\n",
    "\n",
    "candidate_counts = {candidate: 0 for candidate in candidates}\n",
    "\n",
    "model = \"facebook/bart-large-mnli\"  # Default model\n",
    "# model = \"MoritzLaurer/mDeBERTa-v3-base-mnli-xnli\"\n",
    "\n",
    "csv_files = {candidate: open(f\"support/{product}/classify/{candidate}_comments.csv\", \"w\", newline=\"\", encoding=\"utf-8\") for candidate in candidates}    # Initialize CSV files for each category\n",
    "writers = {candidate: csv.writer(csv_files[candidate]) for candidate in candidates}\n",
    "\n",
    "for writer in writers.values():\n",
    "    writer.writerow([\"Sequence\", \"Label\", \"Source\"])            # Write header row for each CSV file\n",
    "\n",
    "classifier = pipeline(\n",
    "    \"zero-shot-classification\",\n",
    "    model=model,\n",
    "    multi_label=True,\n",
    "    device_map='auto'\n",
    ")\n",
    "\n",
    "labeled_comments_count = 0  # Initialize counter for labeled comments\n",
    "\n",
    "comment_list_2 = (c for c in comment_list if c.strip())\n",
    "\n",
    "results = classifier(comment_list_2, candidate_labels = candidates)\n",
    "\n",
    "for comment, result in zip(comment_list_2, results):\n",
    "    sequence = result['sequence'] if result['labels'] else None\n",
    "    label = result['labels'][0] if result['labels'] else None\n",
    "\n",
    "    if label:\n",
    "        candidate_counts[label] += 1\n",
    "        labeled_comments_count += 1\n",
    "\n",
    "        source = \"YouTube\" if comment in youtube else \"Reddit\"          # Determine the source of the comment (YouTube or Reddit)\n",
    "\n",
    "        writers[label].writerow([sequence, label, source])              # Write the comment to the respective CSV file based on its category and source\n",
    "\n",
    "for file in csv_files.values():\n",
    "    file.close()\n",
    "\n",
    "# Print summary\n",
    "print(f\"Candidate Counts:\")\n",
    "for candidate, count in candidate_counts.items():\n",
    "    print(f\"{candidate}: {count}\")\n",
    "print(\"Detailed results written to respective CSV files.\")"
   ]
  },
  {
   "cell_type": "code",
   "execution_count": 11,
   "metadata": {},
   "outputs": [
    {
     "name": "stdout",
     "output_type": "stream",
     "text": [
      "Candidate: Storage\n",
      "Number of comments with Positive sentiment: 1\n",
      "Number of comments with Negative sentiment: 16\n",
      "Number of comments with Neutral sentiment: 12\n",
      "Overall Sentiment: Negative\n",
      "\n",
      "Candidate: Comfort\n",
      "Number of comments with Positive sentiment: 215\n",
      "Number of comments with Negative sentiment: 29\n",
      "Number of comments with Neutral sentiment: 114\n",
      "Overall Sentiment: Positive\n",
      "\n",
      "Candidate: Speed\n",
      "Number of comments with Positive sentiment: 31\n",
      "Number of comments with Negative sentiment: 36\n",
      "Number of comments with Neutral sentiment: 80\n",
      "Overall Sentiment: Negative\n",
      "\n",
      "Candidate: Design\n",
      "Number of comments with Positive sentiment: 57\n",
      "Number of comments with Negative sentiment: 14\n",
      "Number of comments with Neutral sentiment: 46\n",
      "Overall Sentiment: Positive\n",
      "\n",
      "Candidate: Safety\n",
      "Number of comments with Positive sentiment: 191\n",
      "Number of comments with Negative sentiment: 205\n",
      "Number of comments with Neutral sentiment: 217\n",
      "Overall Sentiment: Negative\n",
      "\n",
      "Candidate: Other\n",
      "Number of comments with Positive sentiment: 30\n",
      "Number of comments with Negative sentiment: 90\n",
      "Number of comments with Neutral sentiment: 66\n",
      "Overall Sentiment: Negative\n",
      "\n"
     ]
    }
   ],
   "source": [
    "\"\"\" Conduct Sentiment Analysis on classified candidates \"\"\"\n",
    "import csv\n",
    "from transformers import pipeline, AutoTokenizer\n",
    "\n",
    "candidates = classify_candidates + ['Other']\n",
    "\n",
    "for candidate in candidates:\n",
    "    positive_count = 0\n",
    "    negative_count = 0\n",
    "    neutral_count = 0\n",
    "    empty_comments_count = 0\n",
    "\n",
    "    comment_list = []\n",
    "    with open(f\"support/{product}/classify/{candidate}_comments.csv\", \"r\", encoding=\"utf-8\") as csvfile:\n",
    "        csv_reader = csv.reader(csvfile)\n",
    "        next(csv_reader)  # Skip header row\n",
    "        for row in csv_reader:\n",
    "            comment_list.append(row[0])\n",
    "\n",
    "    if not comment_list:\n",
    "        continue\n",
    "\n",
    "    max_seq_length = 512  # Adjust Truncated Length\n",
    "\n",
    "    model = \"cardiffnlp/twitter-roberta-base-sentiment\"  # negative, neutral, positive\n",
    "\n",
    "    tokenizer = AutoTokenizer.from_pretrained(model, use_fast=True)\n",
    "    filtered_comments = [comment[:max_seq_length - 2] for comment in comment_list]  # -2 to account for special tokens [CLS] and [SEP]\n",
    "\n",
    "    classifier = pipeline(\"sentiment-analysis\", model=model, tokenizer=tokenizer, padding=True, device_map='auto')\n",
    "\n",
    "    results = classifier(filtered_comments)\n",
    "\n",
    "    for i in range(len(results)):\n",
    "        result = results[i]\n",
    "        sentiment = result['label']\n",
    "        if comment_list[i].strip():  # Check if the comment is not empty\n",
    "            if sentiment == \"LABEL_2\" or sentiment == \"POSITIVE\":\n",
    "                positive_count += 1\n",
    "            elif sentiment == \"LABEL_0\" or sentiment == \"NEGATIVE\":\n",
    "                negative_count += 1\n",
    "            elif sentiment == \"LABEL_1\":\n",
    "                neutral_count += 1\n",
    "        else:  # If the comment is empty, count it\n",
    "            empty_comments_count += 1\n",
    "\n",
    "    with open(f\"support/{product}/sentiment/{candidate}_analysis.csv\", \"w\", newline=\"\", encoding=\"utf-8\") as csvfile:\n",
    "        writer = csv.writer(csvfile)\n",
    "        writer.writerow([\"Comment\", \"Sentiment\"])\n",
    "        for i in range(len(results)):\n",
    "            writer.writerow([comment_list[i], results[i]['label']])\n",
    "\n",
    "    overall_sentiment = \"Positive\" if positive_count > negative_count else \"Negative\" if negative_count > positive_count else \"Neutral\"\n",
    "\n",
    "    # Print summary for each candidate\n",
    "    print(f\"Candidate: {candidate}\")\n",
    "    print(\"Number of comments with Positive sentiment:\", positive_count)\n",
    "    print(\"Number of comments with Negative sentiment:\", negative_count)\n",
    "    print(\"Number of comments with Neutral sentiment:\", neutral_count)\n",
    "    print(\"Overall Sentiment:\", overall_sentiment)\n",
    "    print()"
   ]
  },
  {
   "cell_type": "markdown",
   "metadata": {},
   "source": [
    "## TO DO SECTION"
   ]
  },
  {
   "cell_type": "markdown",
   "metadata": {},
   "source": [
    "### Confusion Matrix"
   ]
  },
  {
   "cell_type": "code",
   "execution_count": 1,
   "metadata": {},
   "outputs": [],
   "source": [
    "'''\n",
    "Dear user, please manually annotate the classification for a selected number of comments in a post-classified csv file!\n",
    "Copy the csv file to others folder and name it Confusion_Table.csv !\n",
    "'''\n",
    "confusion_matrix = 'others/Confusion_Table.csv'\n",
    "\n",
    "\"\"\" Confusion Matrix \"\"\"\n",
    "from sklearn.metrics import confusion_matrix\n",
    "from sklearn.metrics import precision_recall_fscore_support\n",
    "import pandas as pd\n",
    "\n",
    "labelled_data = pd.read_csv(\"confusion_matrix\")\n",
    "\n",
    "print(labelled_data)\n",
    "\n",
    "y_true = list(labelled_data['Human'])\n",
    "y_pred = list(labelled_data[\"AI\"])\n",
    "\n",
    "# Print confusion matrix summary\n",
    "print(\"\\nConfusion Matrix summary:\")\n",
    "print(\"Number of comments:\", len(labelled_data))\n",
    "print(\"\\nConfusion Table --- Labels: 0, 1, 2  |  Rows = Human (i.e. True)  |  Columns = AI (i.e. Predicted)\")\n",
    "\n",
    "print(confusion_matrix(y_true, y_pred))\n",
    "print(\"\\n(Precision, Recall, F1 Score)\")\n",
    "print(precision_recall_fscore_support(y_true, y_pred, average='macro')[0:3])"
   ]
  }
 ],
 "metadata": {
  "kernelspec": {
   "display_name": "Python 3",
   "language": "python",
   "name": "python3"
  },
  "language_info": {
   "codemirror_mode": {
    "name": "ipython",
    "version": 3
   },
   "file_extension": ".py",
   "mimetype": "text/x-python",
   "name": "python",
   "nbconvert_exporter": "python",
   "pygments_lexer": "ipython3",
   "version": "3.9.13"
  }
 },
 "nbformat": 4,
 "nbformat_minor": 2
}
