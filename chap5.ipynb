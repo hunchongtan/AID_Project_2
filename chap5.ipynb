{
 "cells": [
  {
   "cell_type": "markdown",
   "metadata": {},
   "source": [
    "# Chapter 5: Classified Sentiment Analysis for Social Media\n",
    "\n",
    "Dear user, we will classify the comments from social media, according to the top 3 key components, \\\n",
    "then perform sentiment analysis to identify the design opportunities with those components."
   ]
  },
  {
   "cell_type": "code",
   "execution_count": 5,
   "metadata": {},
   "outputs": [],
   "source": [
    "'''\n",
    "Dear user, enter your Product here!\n",
    "'''\n",
    "\n",
    "product = \"PICO 4 All-in-One VR Headset\""
   ]
  },
  {
   "cell_type": "code",
   "execution_count": 6,
   "metadata": {},
   "outputs": [],
   "source": [
    "'''\n",
    "Dear user, enter the directories to your social media sources here!\n",
    "'''\n",
    "import pandas as pd\n",
    "\n",
    "youtube_comment_list = pd.read_pickle(\"support/%s/youtube/comment_list.pkl\" % product)\n",
    "reddit_comment_list = pd.read_pickle(\"support/%s/reddit/comment_list.pkl\" % product)"
   ]
  },
  {
   "cell_type": "code",
   "execution_count": 7,
   "metadata": {},
   "outputs": [],
   "source": [
    "'''\n",
    "Dear user, enter the directories to your social media sources here!\n",
    "'''\n",
    "components_to_classify = ['Head Straps', 'Audio', 'Controllers', 'Lenses', 'Cable']"
   ]
  },
  {
   "cell_type": "code",
   "execution_count": 8,
   "metadata": {},
   "outputs": [],
   "source": [
    "\"\"\" Create Classify and Sentiment folder \"\"\"\n",
    "search_terms = product\n",
    "\n",
    "import os\n",
    "import shutil\n",
    "\n",
    "# Create \"classify\" folder\n",
    "try:\n",
    "    os.makedirs(f\"support/{search_terms}/classify\")\n",
    "except FileExistsError:\n",
    "    shutil.rmtree(f\"support/{search_terms}/classify\")\n",
    "    os.makedirs(f\"support/{search_terms}/classify\")\n",
    "\n",
    "# Create \"sentiment\" folder\n",
    "try:\n",
    "    os.makedirs(f\"support/{search_terms}/sentiment\")\n",
    "except FileExistsError:\n",
    "    shutil.rmtree(f\"support/{search_terms}/sentiment\")\n",
    "    os.makedirs(f\"support/{search_terms}/sentiment\")"
   ]
  },
  {
   "cell_type": "code",
   "execution_count": 9,
   "metadata": {},
   "outputs": [
    {
     "name": "stdout",
     "output_type": "stream",
     "text": [
      "Requirement already satisfied: accelerate in c:\\users\\tanhu\\appdata\\local\\programs\\python\\python39\\lib\\site-packages (0.28.0)\n",
      "Requirement already satisfied: numpy>=1.17 in c:\\users\\tanhu\\appdata\\local\\programs\\python\\python39\\lib\\site-packages (from accelerate) (1.25.2)\n",
      "Requirement already satisfied: packaging>=20.0 in c:\\users\\tanhu\\appdata\\local\\programs\\python\\python39\\lib\\site-packages (from accelerate) (23.2)\n",
      "Requirement already satisfied: psutil in c:\\users\\tanhu\\appdata\\roaming\\python\\python39\\site-packages (from accelerate) (5.9.6)\n",
      "Requirement already satisfied: pyyaml in c:\\users\\tanhu\\appdata\\local\\programs\\python\\python39\\lib\\site-packages (from accelerate) (6.0.1)\n",
      "Requirement already satisfied: torch>=1.10.0 in c:\\users\\tanhu\\appdata\\local\\programs\\python\\python39\\lib\\site-packages (from accelerate) (1.10.0)\n",
      "Requirement already satisfied: huggingface-hub in c:\\users\\tanhu\\appdata\\local\\programs\\python\\python39\\lib\\site-packages (from accelerate) (0.16.4)\n",
      "Requirement already satisfied: safetensors>=0.3.1 in c:\\users\\tanhu\\appdata\\local\\programs\\python\\python39\\lib\\site-packages (from accelerate) (0.4.2)\n",
      "Requirement already satisfied: typing-extensions in c:\\users\\tanhu\\appdata\\local\\programs\\python\\python39\\lib\\site-packages (from torch>=1.10.0->accelerate) (4.7.1)\n",
      "Requirement already satisfied: filelock in c:\\users\\tanhu\\appdata\\local\\programs\\python\\python39\\lib\\site-packages (from huggingface-hub->accelerate) (3.12.0)\n",
      "Requirement already satisfied: fsspec in c:\\users\\tanhu\\appdata\\local\\programs\\python\\python39\\lib\\site-packages (from huggingface-hub->accelerate) (2023.6.0)\n",
      "Requirement already satisfied: requests in c:\\users\\tanhu\\appdata\\local\\programs\\python\\python39\\lib\\site-packages (from huggingface-hub->accelerate) (2.31.0)\n",
      "Requirement already satisfied: tqdm>=4.42.1 in c:\\users\\tanhu\\appdata\\local\\programs\\python\\python39\\lib\\site-packages (from huggingface-hub->accelerate) (4.66.1)\n",
      "Requirement already satisfied: colorama in c:\\users\\tanhu\\appdata\\local\\programs\\python\\python39\\lib\\site-packages (from tqdm>=4.42.1->huggingface-hub->accelerate) (0.4.6)\n",
      "Requirement already satisfied: charset-normalizer<4,>=2 in c:\\users\\tanhu\\appdata\\local\\programs\\python\\python39\\lib\\site-packages (from requests->huggingface-hub->accelerate) (3.2.0)\n",
      "Requirement already satisfied: idna<4,>=2.5 in c:\\users\\tanhu\\appdata\\local\\programs\\python\\python39\\lib\\site-packages (from requests->huggingface-hub->accelerate) (3.4)\n",
      "Requirement already satisfied: urllib3<3,>=1.21.1 in c:\\users\\tanhu\\appdata\\local\\programs\\python\\python39\\lib\\site-packages (from requests->huggingface-hub->accelerate) (2.0.4)\n",
      "Requirement already satisfied: certifi>=2017.4.17 in c:\\users\\tanhu\\appdata\\local\\programs\\python\\python39\\lib\\site-packages (from requests->huggingface-hub->accelerate) (2023.7.22)\n"
     ]
    }
   ],
   "source": [
    "! pip install accelerate"
   ]
  },
  {
   "cell_type": "code",
   "execution_count": 10,
   "metadata": {},
   "outputs": [],
   "source": [
    "youtube_comment_list = youtube_comment_list[:100]\n",
    "reddit_comment_list = reddit_comment_list[:100]"
   ]
  },
  {
   "cell_type": "code",
   "execution_count": 11,
   "metadata": {},
   "outputs": [],
   "source": [
    "\"\"\"\n",
    "Classify comments by components\n",
    "\"\"\"\n",
    "def classify_comments(comment_list, file):\n",
    "    import csv\n",
    "    from transformers import pipeline\n",
    "\n",
    "    candidates = components_to_classify + ['Other']               # replace the candidates to suit your needs\n",
    "\n",
    "    candidate_counts = {candidate: 0 for candidate in candidates}   # Initialize counters\n",
    "\n",
    "    model = \"facebook/bart-large-mnli\"                              # default model\n",
    "    # model = \"MoritzLaurer/mDeBERTa-v3-base-mnli-xnli\"\n",
    "\n",
    "    # Initialize CSV files for each category\n",
    "    csv_files = {candidate: open(f\"support/{product}/classify/{file}_{candidate}_comments.csv\", \"w\", newline=\"\", encoding=\"utf-8\") for candidate in candidates}\n",
    "    writers = {candidate: csv.writer(csv_files[candidate]) for candidate in candidates}\n",
    "    for writer in writers.values():\n",
    "        writer.writerow([\"Sequence\", \"Label\"])  # Header row\n",
    "\n",
    "    classifier = pipeline(\"zero-shot-classification\", model=model)\n",
    "    \n",
    "    labeled_comments_count = 0  # Initialize counter for labeled comments\n",
    "    \n",
    "    # Write results to CSV for each comment\n",
    "    for comment in comment_list:\n",
    "        # Classify comment only if it's not empty\n",
    "        if comment.strip():\n",
    "            result = classifier(comment, candidate_labels=candidates)\n",
    "            sequence = result['sequence'] if result['labels'] else None\n",
    "            label = result['labels'][0] if result['labels'] else None\n",
    "            \n",
    "            # Update candidate counters and labeled comments count\n",
    "            if label:\n",
    "                candidate_counts[label] += 1\n",
    "                labeled_comments_count += 1\n",
    "                \n",
    "                # Write the comment to the respective CSV file based on its category\n",
    "                writers[label].writerow([sequence, label])\n",
    "        else:\n",
    "            # Write empty comment to each CSV file\n",
    "            for writer in writers.values():\n",
    "                writer.writerow([None, None])\n",
    "\n",
    "    # Close all CSV files\n",
    "    for file in csv_files.values():\n",
    "        file.close()\n",
    "\n",
    "    # Calculate the number of empty comments\n",
    "    empty_comments_count = len(comment_list) - labeled_comments_count\n",
    "\n",
    "    # Print summary\n",
    "    print(\"Candidate Counts:\")\n",
    "    for candidate, count in candidate_counts.items():\n",
    "        print(f\"{candidate}: {count}\")\n",
    "    print(f\"Empty Comments: {empty_comments_count}\")\n",
    "    print(\"Detailed results written to respective CSV files.\")"
   ]
  },
  {
   "cell_type": "code",
   "execution_count": 12,
   "metadata": {},
   "outputs": [
    {
     "name": "stdout",
     "output_type": "stream",
     "text": [
      "Candidate Counts:\n",
      "Head Straps: 0\n",
      "Audio: 30\n",
      "Controllers: 6\n",
      "Lenses: 4\n",
      "Cable: 4\n",
      "Other: 54\n",
      "Empty Comments: 2\n",
      "Detailed results written to respective CSV files.\n"
     ]
    }
   ],
   "source": [
    "classify_comments(youtube_comment_list, \"youtube\")"
   ]
  },
  {
   "cell_type": "code",
   "execution_count": 13,
   "metadata": {},
   "outputs": [
    {
     "name": "stdout",
     "output_type": "stream",
     "text": [
      "Candidate Counts:\n",
      "Head Straps: 0\n",
      "Audio: 19\n",
      "Controllers: 1\n",
      "Lenses: 2\n",
      "Cable: 4\n",
      "Other: 72\n",
      "Empty Comments: 2\n",
      "Detailed results written to respective CSV files.\n"
     ]
    }
   ],
   "source": [
    "classify_comments(reddit_comment_list, \"reddit\")"
   ]
  },
  {
   "cell_type": "code",
   "execution_count": 14,
   "metadata": {},
   "outputs": [],
   "source": [
    "def sentiment_analysis(file):\n",
    "    import csv\n",
    "    from transformers import pipeline, AutoTokenizer\n",
    "\n",
    "    candidates = components_to_classify + ['Other']\n",
    "\n",
    "    for candidate in candidates:\n",
    "        # Initialize sentiment counts for each candidate\n",
    "        positive_count = 0\n",
    "        negative_count = 0\n",
    "        neutral_count = 0\n",
    "        empty_comments_count = 0\n",
    "\n",
    "        comment_list = []\n",
    "        with open(f\"support/{product}/classify/{file}_{candidate}_comments.csv\", \"r\", encoding=\"utf-8\") as csvfile:\n",
    "            csv_reader = csv.reader(csvfile)\n",
    "            for row in csv_reader:\n",
    "                comment_list.append(row[0])\n",
    "\n",
    "        if not comment_list:\n",
    "            continue\n",
    "\n",
    "        # Define the maximum sequence length\n",
    "        max_seq_length = 512  # Adjust Truncated Length\n",
    "\n",
    "        # Model for sentiment analysis\n",
    "        model = \"cardiffnlp/twitter-roberta-base-sentiment\"  # negative, neutral, positive\n",
    "\n",
    "        # Initialise the tokenizer\n",
    "        tokenizer = AutoTokenizer.from_pretrained(model, use_fast=True)\n",
    "\n",
    "        # Filter out or truncate excessively long sequences\n",
    "        filtered_comments = [comment[:max_seq_length - 2] for comment in comment_list]  # -2 to account for special tokens [CLS] and [SEP]\n",
    "\n",
    "        # Initialise the pipeline with padding\n",
    "        classifier = pipeline(\"sentiment-analysis\", model=model, tokenizer=tokenizer, padding=True, device=-1)\n",
    "\n",
    "        results = classifier(filtered_comments)\n",
    "\n",
    "        # Accumulate sentiment counts\n",
    "        for i in range(len(results)):\n",
    "            result = results[i]\n",
    "            sentiment = result['label']\n",
    "            if comment_list[i].strip():  # Check if the comment is not empty\n",
    "                if sentiment == \"LABEL_2\" or sentiment == \"POSITIVE\":\n",
    "                    positive_count += 1\n",
    "                elif sentiment == \"LABEL_0\" or sentiment == \"NEGATIVE\":\n",
    "                    negative_count += 1\n",
    "                elif sentiment == \"LABEL_1\":\n",
    "                    neutral_count += 1\n",
    "            else:  # If the comment is empty, count it\n",
    "                empty_comments_count += 1\n",
    "\n",
    "        # Output CSV\n",
    "        with open(f\"support/{product}/sentiment/{file}_{candidate}_analysis.csv\", \"w\", newline=\"\", encoding=\"utf-8\") as csvfile:\n",
    "            writer = csv.writer(csvfile)\n",
    "            writer.writerow([\"Comment\", \"Sentiment\"])\n",
    "            for i in range(len(results)):\n",
    "                writer.writerow([comment_list[i], results[i]['label']])\n",
    "\n",
    "        # Calculate overall sentiment for each candidate\n",
    "        overall_sentiment = \"Positive\" if positive_count > negative_count else \"Negative\" if negative_count > positive_count else \"Neutral\"\n",
    "\n",
    "        # Print summary for each candidate\n",
    "        print(f\"Candidate: {candidate}\")\n",
    "        print(\"Number of comments with Positive sentiment:\", positive_count)\n",
    "        print(\"Number of comments with Negative sentiment:\", negative_count)\n",
    "        print(\"Number of comments with Neutral sentiment:\", neutral_count)\n",
    "        print(\"Number of empty comments:\", empty_comments_count)\n",
    "        print(\"Overall Sentiment:\", overall_sentiment)\n",
    "        print()  # Add an empty line for readability\n"
   ]
  },
  {
   "cell_type": "code",
   "execution_count": 15,
   "metadata": {},
   "outputs": [
    {
     "name": "stdout",
     "output_type": "stream",
     "text": [
      "Candidate: Head Straps\n",
      "Number of comments with Positive sentiment: 0\n",
      "Number of comments with Negative sentiment: 0\n",
      "Number of comments with Neutral sentiment: 1\n",
      "Number of empty comments: 2\n",
      "Overall Sentiment: Neutral\n",
      "\n",
      "Candidate: Audio\n",
      "Number of comments with Positive sentiment: 8\n",
      "Number of comments with Negative sentiment: 5\n",
      "Number of comments with Neutral sentiment: 18\n",
      "Number of empty comments: 2\n",
      "Overall Sentiment: Positive\n",
      "\n",
      "Candidate: Controllers\n",
      "Number of comments with Positive sentiment: 2\n",
      "Number of comments with Negative sentiment: 2\n",
      "Number of comments with Neutral sentiment: 3\n",
      "Number of empty comments: 2\n",
      "Overall Sentiment: Neutral\n",
      "\n",
      "Candidate: Lenses\n",
      "Number of comments with Positive sentiment: 1\n",
      "Number of comments with Negative sentiment: 2\n",
      "Number of comments with Neutral sentiment: 2\n",
      "Number of empty comments: 2\n",
      "Overall Sentiment: Negative\n",
      "\n",
      "Candidate: Cable\n",
      "Number of comments with Positive sentiment: 3\n",
      "Number of comments with Negative sentiment: 0\n",
      "Number of comments with Neutral sentiment: 2\n",
      "Number of empty comments: 2\n",
      "Overall Sentiment: Positive\n",
      "\n",
      "Candidate: Other\n",
      "Number of comments with Positive sentiment: 8\n",
      "Number of comments with Negative sentiment: 18\n",
      "Number of comments with Neutral sentiment: 29\n",
      "Number of empty comments: 2\n",
      "Overall Sentiment: Negative\n",
      "\n"
     ]
    }
   ],
   "source": [
    "sentiment_analysis('youtube')"
   ]
  },
  {
   "cell_type": "code",
   "execution_count": 16,
   "metadata": {},
   "outputs": [
    {
     "name": "stdout",
     "output_type": "stream",
     "text": [
      "Candidate: Head Straps\n",
      "Number of comments with Positive sentiment: 0\n",
      "Number of comments with Negative sentiment: 0\n",
      "Number of comments with Neutral sentiment: 1\n",
      "Number of empty comments: 2\n",
      "Overall Sentiment: Neutral\n",
      "\n",
      "Candidate: Audio\n",
      "Number of comments with Positive sentiment: 8\n",
      "Number of comments with Negative sentiment: 5\n",
      "Number of comments with Neutral sentiment: 7\n",
      "Number of empty comments: 2\n",
      "Overall Sentiment: Positive\n",
      "\n",
      "Candidate: Controllers\n",
      "Number of comments with Positive sentiment: 0\n",
      "Number of comments with Negative sentiment: 1\n",
      "Number of comments with Neutral sentiment: 1\n",
      "Number of empty comments: 2\n",
      "Overall Sentiment: Negative\n",
      "\n",
      "Candidate: Lenses\n",
      "Number of comments with Positive sentiment: 1\n",
      "Number of comments with Negative sentiment: 0\n",
      "Number of comments with Neutral sentiment: 2\n",
      "Number of empty comments: 2\n",
      "Overall Sentiment: Positive\n",
      "\n",
      "Candidate: Cable\n",
      "Number of comments with Positive sentiment: 2\n",
      "Number of comments with Negative sentiment: 0\n",
      "Number of comments with Neutral sentiment: 3\n",
      "Number of empty comments: 2\n",
      "Overall Sentiment: Positive\n",
      "\n",
      "Candidate: Other\n",
      "Number of comments with Positive sentiment: 4\n",
      "Number of comments with Negative sentiment: 35\n",
      "Number of comments with Neutral sentiment: 34\n",
      "Number of empty comments: 2\n",
      "Overall Sentiment: Negative\n",
      "\n"
     ]
    }
   ],
   "source": [
    "sentiment_analysis('reddit')"
   ]
  },
  {
   "cell_type": "code",
   "execution_count": null,
   "metadata": {},
   "outputs": [],
   "source": [
    "### CONFUSION MATRIX"
   ]
  }
 ],
 "metadata": {
  "kernelspec": {
   "display_name": "Python 3",
   "language": "python",
   "name": "python3"
  },
  "language_info": {
   "codemirror_mode": {
    "name": "ipython",
    "version": 3
   },
   "file_extension": ".py",
   "mimetype": "text/x-python",
   "name": "python",
   "nbconvert_exporter": "python",
   "pygments_lexer": "ipython3",
   "version": "3.9.13"
  }
 },
 "nbformat": 4,
 "nbformat_minor": 2
}
