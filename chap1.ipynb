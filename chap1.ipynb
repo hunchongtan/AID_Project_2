{
 "cells": [
  {
   "cell_type": "markdown",
   "metadata": {},
   "source": [
    "# Chapter 1: Initial Query with ChatGPT\n",
    "\n",
    "Dear user, you are part of a consulting firm tasked to: \\\n",
    "[1] identify opportunities for design improvements for a specific product \\\n",
    "[2] conduct benchmarking with competitors whenever appropriate.\n",
    "\n",
    "In this initial stage, we will initialize the **product** \\\n",
    "and gather initial insights and directions via querying a LLM (**ChatGPT**)."
   ]
  },
  {
   "cell_type": "markdown",
   "metadata": {},
   "source": [
    "### TO DO SECTION"
   ]
  },
  {
   "cell_type": "code",
   "execution_count": 33,
   "metadata": {},
   "outputs": [],
   "source": [
    "'''\n",
    "Dear user, enter your Product here!\n",
    "'''\n",
    "\n",
    "product = \"Scoot 787\""
   ]
  },
  {
   "cell_type": "code",
   "execution_count": 34,
   "metadata": {},
   "outputs": [],
   "source": [
    "\"\"\" Use this for a fresh set up (Comment if not needed) \"\"\"\n",
    "import os\n",
    "import shutil\n",
    "\n",
    "if os.path.exists('support'):                     # Delete 'support' folder if it exists\n",
    "    shutil.rmtree('support')"
   ]
  },
  {
   "cell_type": "markdown",
   "metadata": {},
   "source": [
    "### RUN AS INTENDED (DO NOT CHANGE ANYTHING.)"
   ]
  },
  {
   "cell_type": "markdown",
   "metadata": {},
   "source": [
    "#### Set Up"
   ]
  },
  {
   "cell_type": "code",
   "execution_count": 35,
   "metadata": {},
   "outputs": [
    {
     "name": "stdout",
     "output_type": "stream",
     "text": [
      "Requirement already satisfied: python-dotenv in c:\\users\\tanhu\\appdata\\local\\programs\\python\\python39\\lib\\site-packages (1.0.0)\n"
     ]
    },
    {
     "name": "stderr",
     "output_type": "stream",
     "text": [
      "DEPRECATION: google-images-search 1.4.6 has a non-standard dependency specifier click>=7.0<=8.1.*. pip 24.1 will enforce this behaviour change. A possible replacement is to upgrade to a newer version of google-images-search or contact the author to suggest that they release a version with a conforming dependency specifiers. Discussion can be found at https://github.com/pypa/pip/issues/12063\n"
     ]
    }
   ],
   "source": [
    "! pip install python-dotenv"
   ]
  },
  {
   "cell_type": "code",
   "execution_count": 36,
   "metadata": {},
   "outputs": [],
   "source": [
    "\"\"\" Set up OpenAI API key \"\"\"\n",
    "import os\n",
    "from dotenv import load_dotenv\n",
    "\n",
    "load_dotenv()\n",
    "\n",
    "key = os.getenv(\"OPENAI_API_KEY\")"
   ]
  },
  {
   "cell_type": "code",
   "execution_count": 37,
   "metadata": {},
   "outputs": [],
   "source": [
    "search_terms = product"
   ]
  },
  {
   "cell_type": "code",
   "execution_count": 38,
   "metadata": {},
   "outputs": [
    {
     "name": "stdout",
     "output_type": "stream",
     "text": [
      "Directory Scoot 787 created\n",
      "Directory ChatGPT created\n"
     ]
    }
   ],
   "source": [
    "\"\"\" Create directory \"\"\"\n",
    "import os\n",
    "\n",
    "try:                                              # Create directory named after search terms\n",
    "    os.makedirs(\"support/%s\" % search_terms)\n",
    "    print(\"Directory\", search_terms, \"created\")\n",
    "except FileExistsError:\n",
    "    print(\"Directory\", search_terms, \"exists\")\n",
    "\n",
    "try:                                              # Create directory to store ChatGPT\n",
    "    os.makedirs(\"support/%s/%s\" % (search_terms, \"ChatGPT\"))\n",
    "    print(\"Directory ChatGPT created\")\n",
    "except FileExistsError:\n",
    "    print(\"Directory ChatGPT exists\")"
   ]
  },
  {
   "cell_type": "markdown",
   "metadata": {},
   "source": [
    "#### DESIGN OPPORTUNITIES QUERY with ChatGPT"
   ]
  },
  {
   "cell_type": "code",
   "execution_count": 39,
   "metadata": {},
   "outputs": [
    {
     "name": "stdout",
     "output_type": "stream",
     "text": [
      "Design Opportunities Query with ChatGPT:\n",
      "                        Component                             Description\n",
      "0                           Seats             Improve comfort and legroom\n",
      "1  In-flight Entertainment System                Upgrade for more options\n",
      "2                  Cabin Lighting             Enhance for better ambience\n",
      "3                      Lavatories         Increase number and cleanliness\n",
      "4                Overhead Storage               Maximize space efficiency\n",
      "5                          Galley             Optimize for faster service\n",
      "6                Air Conditioning  Improve for better temperature control\n",
      "7                   Window Shades        Upgrade for better light control\n",
      "8                     Aisle Space               Widen for easier movement\n",
      "9                 Emergency Exits    Improve visibility and accessibility\n"
     ]
    }
   ],
   "source": [
    "\"\"\" Design Opportunities Query with ChatGPT \"\"\"\n",
    "import pickle\n",
    "import pandas as pd\n",
    "import json\n",
    "\n",
    "from openai import OpenAI\n",
    "client = OpenAI()\n",
    "\n",
    "question =  f\"Identify and rank ten opportunities for design improvements with components in {product}.\"\n",
    "template = \" Express the answer only as a Python dictionary (with double quotes, strictly no single quotes) with the key as a physical component (do not add numbering) and the value as a concised explanation with a maximum of 45 characters. If you don't know the answer to the question, strictly state 'I don't know'.\"\n",
    "prompt = question + template\n",
    "\n",
    "chat_completion = client.chat.completions.create(\n",
    "    model=\"gpt-4\",\n",
    "    messages=[{\"role\": \"user\", \"content\": prompt,}],\n",
    "    temperature=0.5,                                        \n",
    ")\n",
    "\n",
    "result = chat_completion.choices[0].message.content\n",
    "\n",
    "pickle.dump(result, open(\"support/%s/%s/chatgpt_design_opportunities.pkl\" % (product, \"ChatGPT\"), \"wb\"))\n",
    "\n",
    "data_string = pd.read_pickle(\"support/%s/%s/chatgpt_design_opportunities.pkl\" % (product, \"ChatGPT\"))\n",
    "data = json.loads(data_string)\n",
    "\n",
    "try:\n",
    "    components = list(data.keys())\n",
    "    descriptions = list(data.values())\n",
    "\n",
    "    df = pd.DataFrame({'Component': components, 'Description': descriptions})\n",
    "\n",
    "    print(\"Design Opportunities Query with ChatGPT:\")\n",
    "    print(df)\n",
    "except:\n",
    "    print(\"Invalid Response. Please regenerate.\")\n"
   ]
  },
  {
   "cell_type": "markdown",
   "metadata": {},
   "source": [
    "## BENCHMARKING QUERY with ChatGPT"
   ]
  },
  {
   "cell_type": "code",
   "execution_count": 40,
   "metadata": {},
   "outputs": [
    {
     "name": "stdout",
     "output_type": "stream",
     "text": [
      "Benchmarking Query with ChatGPT:\n",
      "Airbus A330\n",
      "                        Component                     Benchmarking\n",
      "0                           Seats     Comparable comfort and space\n",
      "1  In-flight Entertainment System          Scoot 787 more advanced\n",
      "2                  Cabin Lighting            787 has mood lighting\n",
      "3                      Lavatories  Comparable in size and features\n",
      "4                Overhead Storage              787 has larger bins\n",
      "5                          Galley    787 has more efficient layout\n",
      "6                Air Conditioning   787 uses more efficient system\n",
      "7                   Window Shades       787 has electronic dimming\n",
      "8                     Aisle Space           Comparable aisle space\n",
      "9                 Emergency Exits       Comparable number and size\n",
      "\n",
      "\n",
      "Boeing 777\n",
      "                        Component                    Benchmarking\n",
      "0                           Seats  787 has more comfortable seats\n",
      "1  In-flight Entertainment System              Comparable systems\n",
      "2                  Cabin Lighting           787 uses LED lighting\n",
      "3                      Lavatories       777 has larger lavatories\n",
      "4                Overhead Storage          787 has larger storage\n",
      "5                          Galley          Comparable galley size\n",
      "6                Air Conditioning  787 uses more efficient system\n",
      "7                   Window Shades      787 has electronic dimming\n",
      "8                     Aisle Space            777 has wider aisles\n",
      "9                 Emergency Exits         Comparable exit designs\n",
      "\n",
      "\n",
      "Airbus A350\n",
      "                        Component                        Benchmarking\n",
      "0                           Seats    787 has narrower seats than A350\n",
      "1  In-flight Entertainment System     Similar systems, 787's is newer\n",
      "2                  Cabin Lighting     Both have mood lighting options\n",
      "3                      Lavatories   A350 lavatories are more spacious\n",
      "4                Overhead Storage        787 has larger overhead bins\n",
      "5                          Galley  A350 galley has more storage space\n",
      "6                Air Conditioning      787 uses more efficient system\n",
      "7                   Window Shades  787 has electronic dimming windows\n",
      "8                     Aisle Space               A350 has wider aisles\n",
      "9                 Emergency Exits   Both have similar number of exits\n",
      "\n",
      "\n"
     ]
    }
   ],
   "source": [
    "\"\"\" BENCHMARKING QUERY with ChatGPT \"\"\"\n",
    "\n",
    "\"\"\" Get 3 competitors \"\"\"\n",
    "import pickle\n",
    "import pandas as pd\n",
    "import json\n",
    "import ast\n",
    "\n",
    "from openai import OpenAI\n",
    "client = OpenAI()\n",
    "\n",
    "question =  f\"Identify three competitors of the {product}.\"\n",
    "template = \" Express the answer only as a Python list with the product name (do not add numbering). If you don't know the answer to the question, strictly state 'I don't know'.\"\n",
    "prompt = question + template\n",
    "\n",
    "chat_completion = client.chat.completions.create(\n",
    "    model=\"gpt-4\",\n",
    "    messages=[{\"role\": \"user\", \"content\": prompt,}],\n",
    "    temperature=0.5,                                        \n",
    ")\n",
    "\n",
    "result = chat_completion.choices[0].message.content\n",
    "\n",
    "pickle.dump(result, open(\"support/%s/%s/chatgpt_competitors.pkl\" % (product, \"ChatGPT\"), \"wb\"))\n",
    "\n",
    "\"\"\" Benchmarking \"\"\"\n",
    "print(\"Benchmarking Query with ChatGPT:\")\n",
    "competitors_string = pd.read_pickle(\"support/%s/%s/chatgpt_competitors.pkl\" % (product, \"ChatGPT\"))\n",
    "competitors = ast.literal_eval(competitors_string)\n",
    "\n",
    "data_string = pd.read_pickle(\"support/%s/%s/chatgpt_design_opportunities.pkl\" % (product, \"ChatGPT\"))\n",
    "data = json.loads(data_string)\n",
    "components = list(data.keys())\n",
    "\n",
    "client = OpenAI()\n",
    "\n",
    "for i in range(len(competitors)):\n",
    "    question = f\"Using the {product}, conduct design benchmarking with {competitors[i]} with regards to these ten physical components: {components}.\"\n",
    "    template = \" Express the answer only as a Python dictionary (with double quotes, strictly no single quotes) with the key as a physical component (do not add numbering) and the value as a concised comparison explanation with a maximum of 40 characters. If you don't know the answer to the question, strictly state 'I don't know.'.\"\n",
    "    prompt = question + template\n",
    "\n",
    "    chat_completion = client.chat.completions.create(\n",
    "        model=\"gpt-4\",\n",
    "        messages=[{\"role\": \"user\", \"content\": prompt}],\n",
    "        temperature=0.5,  # adjust persona and temperature\n",
    "    )\n",
    "\n",
    "    result = chat_completion.choices[0].message.content\n",
    "\n",
    "    pickle.dump(result, open(\"support/%s/%s/chatgpt_%s_benchmarking.pkl\" % (product, \"ChatGPT\", competitors[i]), \"wb\"))\n",
    "\n",
    "    data_string = pd.read_pickle(\"support/%s/%s/chatgpt_%s_benchmarking.pkl\" % (product, \"ChatGPT\", competitors[i]))\n",
    "    benchmarking_data = json.loads(data_string)\n",
    "    try:\n",
    "        components = list(benchmarking_data.keys())\n",
    "        descriptions = list(benchmarking_data.values())\n",
    "\n",
    "        df = pd.DataFrame({'Component': components, 'Benchmarking': descriptions})\n",
    "\n",
    "        print(competitors[i])\n",
    "        print(df)\n",
    "        print(\"\\n\")\n",
    "    except:\n",
    "        print(\"Invalid Response. Please regenerate.\")"
   ]
  }
 ],
 "metadata": {
  "kernelspec": {
   "display_name": "Python 3",
   "language": "python",
   "name": "python3"
  },
  "language_info": {
   "codemirror_mode": {
    "name": "ipython",
    "version": 3
   },
   "file_extension": ".py",
   "mimetype": "text/x-python",
   "name": "python",
   "nbconvert_exporter": "python",
   "pygments_lexer": "ipython3",
   "version": "3.9.13"
  }
 },
 "nbformat": 4,
 "nbformat_minor": 2
}
