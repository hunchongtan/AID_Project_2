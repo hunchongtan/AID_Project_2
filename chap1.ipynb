{
 "cells": [
  {
   "cell_type": "markdown",
   "metadata": {},
   "source": [
    "# Chapter 1: Initial Query with ChatGPT\n",
    "\n",
    "Dear user, you are part of a consulting firm tasked to: \\\n",
    "[1] identify opportunities for design improvements for a specific product \\\n",
    "[2] conduct benchmarking with competitors whenever appropriate.\n",
    "\n",
    "In this initial stage, we will initialize the **product** \\\n",
    "and gather initial insights and directions via querying a LLM (**ChatGPT**)."
   ]
  },
  {
   "cell_type": "markdown",
   "metadata": {},
   "source": [
    "### TO DO SECTION"
   ]
  },
  {
   "cell_type": "code",
   "execution_count": 1,
   "metadata": {},
   "outputs": [],
   "source": [
    "'''\n",
    "Dear user, enter your Product here!\n",
    "'''\n",
    "\n",
    "product = \"PICO 4 All-in-One VR Headset\""
   ]
  },
  {
   "cell_type": "markdown",
   "metadata": {},
   "source": [
    "### RUN AS INTENDED (DO NOT CHANGE ANYTHING.)"
   ]
  },
  {
   "cell_type": "markdown",
   "metadata": {},
   "source": [
    "##### Set Up"
   ]
  },
  {
   "cell_type": "code",
   "execution_count": 2,
   "metadata": {},
   "outputs": [
    {
     "name": "stdout",
     "output_type": "stream",
     "text": [
      "Requirement already satisfied: python-dotenv in c:\\users\\tanhu\\appdata\\local\\programs\\python\\python39\\lib\\site-packages (1.0.0)\n"
     ]
    }
   ],
   "source": [
    "! pip install python-dotenv"
   ]
  },
  {
   "cell_type": "code",
   "execution_count": 3,
   "metadata": {},
   "outputs": [],
   "source": [
    "\"\"\" Set up OpenAI API key \"\"\"\n",
    "import os\n",
    "from dotenv import load_dotenv\n",
    "\n",
    "load_dotenv()\n",
    "\n",
    "key = os.getenv(\"OPENAI_API_KEY\")"
   ]
  },
  {
   "cell_type": "code",
   "execution_count": 4,
   "metadata": {},
   "outputs": [
    {
     "name": "stdout",
     "output_type": "stream",
     "text": [
      "Directory PICO 4 All-in-One VR Headset created\n"
     ]
    }
   ],
   "source": [
    "\"\"\" Create directory \"\"\"\n",
    "import shutil\n",
    "\n",
    "if os.path.exists('support'):                     # Delete 'support' folder if it exists\n",
    "    shutil.rmtree('support')\n",
    "\n",
    "search_terms = product\n",
    "\n",
    "try:                                              # Create directory named after search terms\n",
    "    os.makedirs(\"support/%s\" % search_terms)\n",
    "    print(\"Directory\", search_terms, \"created\")\n",
    "except FileExistsError:\n",
    "    print(\"Directory\", search_terms, \"exists\")"
   ]
  },
  {
   "cell_type": "code",
   "execution_count": 5,
   "metadata": {},
   "outputs": [
    {
     "name": "stdout",
     "output_type": "stream",
     "text": [
      "Directory ChatGPT created\n"
     ]
    }
   ],
   "source": [
    "try:                                              # Create directory to store ChatGPT\n",
    "    os.makedirs(\"support/%s/%s\" % (search_terms, \"ChatGPT\"))\n",
    "    print(\"Directory ChatGPT created\")\n",
    "except FileExistsError:\n",
    "    print(\"Directory ChatGPT exists\")"
   ]
  },
  {
   "cell_type": "markdown",
   "metadata": {},
   "source": [
    "##### DESIGN OPPORTUNITIES QUERY with ChatGPT"
   ]
  },
  {
   "cell_type": "code",
   "execution_count": 6,
   "metadata": {},
   "outputs": [
    {
     "name": "stdout",
     "output_type": "stream",
     "text": [
      "Design Opportunities Query with ChatGPT:\n",
      "          Component                           Description\n",
      "0       Head Straps     Improve comfort and adjustability\n",
      "1      Battery Life      Increase duration for longer use\n",
      "2       Controllers  Enhance ergonomics and button layout\n",
      "3     Audio Quality  Improve sound fidelity and immersion\n",
      "4            Weight       Reduce for more comfortable use\n",
      "5     Field of View         Increase for better immersion\n",
      "6        Resolution          Increase for clearer visuals\n",
      "7    User Interface              Simplify for ease of use\n",
      "8  Heat Dissipation        Improve to prevent overheating\n",
      "9   Motion Tracking   Enhance accuracy and responsiveness\n"
     ]
    }
   ],
   "source": [
    "\"\"\" Design Opportunities Query with ChatGPT \"\"\"\n",
    "import pickle\n",
    "import pandas as pd\n",
    "import json\n",
    "\n",
    "from openai import OpenAI\n",
    "client = OpenAI()\n",
    "\n",
    "question =  f\"Identify and rank ten opportunities for design improvements with the {product}.\"\n",
    "template = \" Express the answer only as a Python dictionary (with double quotes, strictly no single quotes) with the key as a physical component (do not add numbering) and the value as a concised explanation with a maximum of 45 characters. If you don't know the answer to the question, strictly state 'I don't know'.\"\n",
    "prompt = question + template\n",
    "\n",
    "chat_completion = client.chat.completions.create(\n",
    "    model=\"gpt-4\",\n",
    "    messages=[{\"role\": \"user\", \"content\": prompt,}],\n",
    "    temperature=0.5,                                        # adjust persona and temperature\n",
    ")\n",
    "\n",
    "result = chat_completion.choices[0].message.content\n",
    "\n",
    "pickle.dump(result, open(\"support/%s/%s/chatgpt_design_opportunities.pkl\" % (product, \"ChatGPT\"), \"wb\"))\n",
    "\n",
    "data_string = pd.read_pickle(\"support/%s/%s/chatgpt_design_opportunities.pkl\" % (product, \"ChatGPT\"))\n",
    "data = json.loads(data_string)\n",
    "\n",
    "try:\n",
    "    components = list(data.keys())\n",
    "    descriptions = list(data.values())\n",
    "\n",
    "    df = pd.DataFrame({'Component': components, 'Description': descriptions})\n",
    "\n",
    "    print(\"Design Opportunities Query with ChatGPT:\")\n",
    "    print(df)\n",
    "except:\n",
    "        print(\"Invalid Response. Please regenerate.\")\n"
   ]
  },
  {
   "cell_type": "markdown",
   "metadata": {},
   "source": [
    "##### BENCHMARKING QUERY with ChatGPT"
   ]
  },
  {
   "cell_type": "code",
   "execution_count": 9,
   "metadata": {},
   "outputs": [
    {
     "name": "stdout",
     "output_type": "stream",
     "text": [
      "Benchmarking Query with ChatGPT:\n",
      "Oculus Quest 2\n",
      "            Component                                  Benchmarking\n",
      "0             Headset  PICO lighter & smaller, Oculus more powerful\n",
      "1   Touch Controllers         Oculus has more intuitive controllers\n",
      "2       Power Adapter           Both provide similar power adapters\n",
      "3      Glasses Spacer         Only Oculus provides a glasses spacer\n",
      "4      Charging Cable          Both have similar length and quality\n",
      "5          Head Strap  Oculus strap more comfortable and adjustable\n",
      "6        AA Batteries      Oculus controllers use AA, PICO built-in\n",
      "7         USB-C Cable          Both headsets use USB-C for charging\n",
      "8          Lens Cloth      Both provide lens cloth, similar quality\n",
      "9  Instruction Manual             Both have clear, detailed manuals\n",
      "\n",
      "\n",
      "HTC Vive Cosmos\n",
      "           Component                                    Benchmarking\n",
      "0            Headset       Pico more lightweight, HTC has higher res\n",
      "1        Controllers                   Pico uses 3DoF, HTC uses 6DoF\n",
      "2      Base Stations                  Pico doesn't need, HTC needs 2\n",
      "3           Link Box             Pico doesn't need, HTC requires one\n",
      "4     Power Adapters                     Both have included adapters\n",
      "5       Mounting Kit            Not needed for Pico, included in HTC\n",
      "6        USB-C Cable                 Both headsets come with a cable\n",
      "7  DisplayPort Cable            Not needed for Pico, included in HTC\n",
      "8       AA Batteries  Pico's controllers rechargeable, HTC's need AA\n",
      "9         Lens Cloth                     Both come with a lens cloth\n",
      "\n",
      "\n",
      "PlayStation VR\n",
      "             Component                                Benchmarking\n",
      "0              Headset  PICO is lighter, wireless, more convenient\n",
      "1       Processor Unit               PICO has integrated processor\n",
      "2   PlayStation Camera        PICO doesn't require external camera\n",
      "3           HDMI Cable            PICO is wireless, no HDMI needed\n",
      "4            USB Cable             PICO charges via USB-C, not USB\n",
      "5           AC Adapter               Both use AC adapter for power\n",
      "6        AC Power Cord          PICO uses USB-C, not AC power cord\n",
      "7              Earbuds      PICO has built-in speakers, no earbuds\n",
      "8  Lens Cleaning Cloth            Both include lens cleaning cloth\n",
      "9   Instruction Manual               Both have instruction manuals\n",
      "\n",
      "\n"
     ]
    }
   ],
   "source": [
    "\"\"\" BENCHMARKING QUERY with ChatGPT \"\"\"\n",
    "\n",
    "\"\"\" Get 3 competitors \"\"\"\n",
    "import pickle\n",
    "import pandas as pd\n",
    "import json\n",
    "\n",
    "search_terms = product\n",
    "\n",
    "from openai import OpenAI\n",
    "client = OpenAI()\n",
    "\n",
    "question =  f\"Identify three competitors of the {product} and the top ten physical components of each competitor.\"\n",
    "template = \" Express the answer only as a Python dictionary (with double quotes, strictly no single quotes) with the key as the product name (do not add numbering) and the value as a Python list of the ten components. If you don't know the answer to the question, strictly state ' '.\"\n",
    "prompt = question + template\n",
    "\n",
    "chat_completion = client.chat.completions.create(\n",
    "    model=\"gpt-4\",\n",
    "    messages=[{\"role\": \"user\", \"content\": prompt,}],\n",
    "    temperature=0.5,                                        # adjust persona and temperature\n",
    ")\n",
    "\n",
    "result = chat_completion.choices[0].message.content\n",
    "\n",
    "pickle.dump(result, open(\"support/%s/%s/chatgpt_competitors.pkl\" % (product, \"ChatGPT\"), \"wb\"))\n",
    "\n",
    "\"\"\" Benchmarking \"\"\"\n",
    "print(\"Benchmarking Query with ChatGPT:\")\n",
    "data_string = pd.read_pickle(\"support/%s/%s/chatgpt_competitors.pkl\" % (product, \"ChatGPT\"))\n",
    "data = json.loads(data_string)\n",
    "try:\n",
    "    competitors = list(data.keys())\n",
    "    components = list(data.values())\n",
    "    client = OpenAI()\n",
    "\n",
    "    for i in range(len(competitors)):\n",
    "        question = f\"Using the {product}, conduct benchmarking with {competitors[i]} with regards to these ten physical components: {data[competitors[i]]}.\"\n",
    "        template = \" Express the answer only as a Python dictionary (with double quotes, strictly no single quotes) with the key as a physical component (do not add numbering) and the value as a concised explanation with a maximum of 45 characters. If you don't know the answer to the question, strictly state 'I don't know.'.\"\n",
    "        prompt = question + template\n",
    "\n",
    "        chat_completion = client.chat.completions.create(\n",
    "            model=\"gpt-4\",\n",
    "            messages=[{\"role\": \"user\", \"content\": prompt}],\n",
    "            temperature=0.5,  # adjust persona and temperature\n",
    "        )\n",
    "\n",
    "        result = chat_completion.choices[0].message.content\n",
    "\n",
    "        pickle.dump(result, open(\"support/%s/%s/chatgpt_%s_benchmarking.pkl\" % (product, \"ChatGPT\", competitors[i]), \"wb\"))\n",
    "\n",
    "        data_string = pd.read_pickle(\"support/%s/%s/chatgpt_%s_benchmarking.pkl\" % (product, \"ChatGPT\", competitors[i]))\n",
    "        benchmarking_data = json.loads(data_string)\n",
    "        try:\n",
    "            components = list(benchmarking_data.keys())\n",
    "            descriptions = list(benchmarking_data.values())\n",
    "\n",
    "            df = pd.DataFrame({'Component': components, 'Benchmarking': descriptions})\n",
    "\n",
    "            print(competitors[i])\n",
    "            print(df)\n",
    "            print(\"\\n\")\n",
    "        except:\n",
    "            print(\"Invalid Response. Please regenerate.\")\n",
    "except:\n",
    "        print(\"Invalid Response. Please regenerate.\")"
   ]
  }
 ],
 "metadata": {
  "kernelspec": {
   "display_name": "Python 3",
   "language": "python",
   "name": "python3"
  },
  "language_info": {
   "codemirror_mode": {
    "name": "ipython",
    "version": 3
   },
   "file_extension": ".py",
   "mimetype": "text/x-python",
   "name": "python",
   "nbconvert_exporter": "python",
   "pygments_lexer": "ipython3",
   "version": "3.9.13"
  }
 },
 "nbformat": 4,
 "nbformat_minor": 2
}
