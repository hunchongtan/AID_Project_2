{
 "cells": [
  {
   "cell_type": "markdown",
   "metadata": {},
   "source": [
    "# Chapter 1: Initial Query with ChatGPT\n",
    "\n",
    "Dear user, you are part of a consulting firm tasked to: \\\n",
    "[1] identify opportunities for design improvements for a specific product \\\n",
    "[2] conduct benchmarking with competitors whenever appropriate.\n",
    "\n",
    "In this initial stage, we will initialize the **product** \\\n",
    "and gather initial insights and directions via querying a LLM (**ChatGPT**)."
   ]
  },
  {
   "cell_type": "markdown",
   "metadata": {},
   "source": [
    "### TO DO SECTION"
   ]
  },
  {
   "cell_type": "code",
   "execution_count": 1,
   "metadata": {},
   "outputs": [],
   "source": [
    "'''\n",
    "Dear user, enter your Product here!\n",
    "'''\n",
    "\n",
    "product = \"PICO 4 All-in-One VR Headset\""
   ]
  },
  {
   "cell_type": "markdown",
   "metadata": {},
   "source": [
    "### RUN AS INTENDED (DO NOT CHANGE ANYTHING.)"
   ]
  },
  {
   "cell_type": "markdown",
   "metadata": {},
   "source": [
    "##### Set Up"
   ]
  },
  {
   "cell_type": "code",
   "execution_count": 2,
   "metadata": {},
   "outputs": [
    {
     "name": "stdout",
     "output_type": "stream",
     "text": [
      "Requirement already satisfied: python-dotenv in c:\\users\\tanhu\\appdata\\local\\programs\\python\\python39\\lib\\site-packages (1.0.0)\n"
     ]
    }
   ],
   "source": [
    "! pip install python-dotenv"
   ]
  },
  {
   "cell_type": "code",
   "execution_count": 3,
   "metadata": {},
   "outputs": [],
   "source": [
    "\"\"\" Set up OpenAI API key \"\"\"\n",
    "import os\n",
    "from dotenv import load_dotenv\n",
    "\n",
    "load_dotenv()\n",
    "\n",
    "key = os.getenv(\"OPENAI_API_KEY\")"
   ]
  },
  {
   "cell_type": "code",
   "execution_count": 4,
   "metadata": {},
   "outputs": [
    {
     "name": "stdout",
     "output_type": "stream",
     "text": [
      "Directory PICO 4 All-in-One VR Headset created\n"
     ]
    }
   ],
   "source": [
    "\"\"\" Create directory \"\"\"\n",
    "import shutil\n",
    "\n",
    "if os.path.exists('support'):                     # Delete 'support' folder if it exists\n",
    "    shutil.rmtree('support')\n",
    "\n",
    "search_terms = product\n",
    "\n",
    "try:                                              # Create directory named after search terms\n",
    "    os.makedirs(\"support/%s\" % search_terms)\n",
    "    print(\"Directory\", search_terms, \"created\")\n",
    "except FileExistsError:\n",
    "    print(\"Directory\", search_terms, \"exists\")"
   ]
  },
  {
   "cell_type": "code",
   "execution_count": 5,
   "metadata": {},
   "outputs": [
    {
     "name": "stdout",
     "output_type": "stream",
     "text": [
      "Directory ChatGPT created\n"
     ]
    }
   ],
   "source": [
    "try:                                              # Create directory to store ChatGPT\n",
    "    os.makedirs(\"support/%s/%s\" % (search_terms, \"ChatGPT\"))\n",
    "    print(\"Directory ChatGPT created\")\n",
    "except FileExistsError:\n",
    "    print(\"Directory ChatGPT exists\")"
   ]
  },
  {
   "cell_type": "markdown",
   "metadata": {},
   "source": [
    "##### DESIGN OPPORTUNITIES QUERY with ChatGPT"
   ]
  },
  {
   "cell_type": "code",
   "execution_count": 10,
   "metadata": {},
   "outputs": [
    {
     "name": "stdout",
     "output_type": "stream",
     "text": [
      "Design Opportunities Query with ChatGPT:\n",
      "      Component                              Description\n",
      "0    Head Strap           Needs more padding for comfort\n",
      "1          Lens         Improve clarity and reduce glare\n",
      "2   Controllers         Ergonomic design for better grip\n",
      "3         Audio  Enhanced quality and noise cancellation\n",
      "4       Battery             Increase life for longer use\n",
      "5        Weight               Lighter design for comfort\n",
      "6   Ventilation                  Better heat dissipation\n",
      "7     Interface               Simpler, more intuitive UI\n",
      "8  Connectivity       Faster and more stable connections\n",
      "9    Resolution    Higher display resolution for clarity\n"
     ]
    }
   ],
   "source": [
    "\"\"\" Design Opportunities Query with ChatGPT \"\"\"\n",
    "import pickle\n",
    "import pandas as pd\n",
    "import json\n",
    "\n",
    "from openai import OpenAI\n",
    "client = OpenAI()\n",
    "\n",
    "question =  f\"Identify and rank ten opportunities for design improvements with the {product}.\"\n",
    "template = \" Express the answer only as a Python dictionary (with double quotes, strictly no single quotes) with the key as a physical component (do not add numbering) and the value as a concised explanation with a maximum of 45 characters. If you don't know the answer to the question, strictly state 'I don't know'.\"\n",
    "prompt = question + template\n",
    "\n",
    "chat_completion = client.chat.completions.create(\n",
    "    model=\"gpt-4\",\n",
    "    messages=[{\"role\": \"user\", \"content\": prompt,}],\n",
    "    temperature=0.5,                                        # adjust persona and temperature\n",
    ")\n",
    "\n",
    "result = chat_completion.choices[0].message.content\n",
    "\n",
    "pickle.dump(result, open(\"support/%s/%s/chatgpt_design_opportunities.pkl\" % (product, \"ChatGPT\"), \"wb\"))\n",
    "\n",
    "data_string = pd.read_pickle(\"support/%s/%s/chatgpt_design_opportunities.pkl\" % (product, \"ChatGPT\"))\n",
    "data = json.loads(data_string)\n",
    "\n",
    "components = list(data.keys())\n",
    "descriptions = list(data.values())\n",
    "\n",
    "df = pd.DataFrame({'Component': components, 'Description': descriptions})\n",
    "\n",
    "print(\"Design Opportunities Query with ChatGPT:\")\n",
    "print(df)\n"
   ]
  },
  {
   "cell_type": "markdown",
   "metadata": {},
   "source": [
    "##### BENCHMARKING QUERY with ChatGPT"
   ]
  },
  {
   "cell_type": "code",
   "execution_count": 11,
   "metadata": {},
   "outputs": [
    {
     "name": "stdout",
     "output_type": "stream",
     "text": [
      "Benchmarking Query with ChatGPT:\n",
      "Oculus Quest 2\n",
      "                     Component  \\\n",
      "0                      Headset   \n",
      "1        Two Touch Controllers   \n",
      "2               Charging Cable   \n",
      "3                Power Adapter   \n",
      "4               Glasses Spacer   \n",
      "5                Headset Strap   \n",
      "6                 AA Batteries   \n",
      "7  USB-C (USB 3.2 Gen 1) Cable   \n",
      "8         3.5mm headphone jack   \n",
      "9                   Microphone   \n",
      "\n",
      "                                       Benchmarking  \n",
      "0  Pico is lighter but Oculus has better resolution  \n",
      "1                       Both have ergonomic designs  \n",
      "2                       Both use USB-C for charging  \n",
      "3                      Both include a power adapter  \n",
      "4             Only Oculus provides a glasses spacer  \n",
      "5                       Both have adjustable straps  \n",
      "6               Oculus controllers use AA batteries  \n",
      "7                        Both include a USB-C cable  \n",
      "8                      Only Oculus has a 3.5mm jack  \n",
      "9                    Both have built-in microphones  \n",
      "\n",
      "\n",
      "HTC Vive Pro\n",
      "           Component                                    Benchmarking\n",
      "0            Headset  PICO lighter but less resolution than Vive Pro\n",
      "1    Two Controllers         PICO has simpler, less ergonomic design\n",
      "2  Two Base Stations              PICO doesn't require base stations\n",
      "3           Link Box                 PICO doesn't require a link box\n",
      "4     Power Adapters                Both have similar power adapters\n",
      "5       Mounting Kit              Not required for PICO 4 All-in-One\n",
      "6      USB 3.0 Cable           Both headsets come with USB 3.0 Cable\n",
      "7         HDMI Cable              PICO doesn't require an HDMI cable\n",
      "8          Earphones                  Both have integrated earphones\n",
      "9         Microphone                  Both have built-in microphones\n",
      "\n",
      "\n",
      "PlayStation VR\n",
      "                     Component                                  Benchmarking\n",
      "0                   VR Headset  PICO is lighter, PS VR has better resolution\n",
      "1           PlayStation Camera                    Not applicable for PICO VR\n",
      "2               Processor Unit                 PICO has integrated processor\n",
      "3                   HDMI Cable              PICO is wireless, no HDMI needed\n",
      "4                    USB Cable              Both use USB cables for charging\n",
      "5                   AC Adaptor                    Both come with AC adaptors\n",
      "6                AC Power Cord                      Both have AC power cords\n",
      "7  VR Headset Connection Cable         PICO is wireless, no connection cable\n",
      "8               Stereo Earbuds                 Both come with stereo earbuds\n",
      "9               Cleaning Cloth                   Both provide cleaning cloth\n",
      "\n",
      "\n"
     ]
    }
   ],
   "source": [
    "\"\"\" BENCHMARKING QUERY with ChatGPT \"\"\"\n",
    "\n",
    "\"\"\" Get 3 competitors \"\"\"\n",
    "import pickle\n",
    "import pandas as pd\n",
    "import json\n",
    "\n",
    "search_terms = product\n",
    "\n",
    "from openai import OpenAI\n",
    "client = OpenAI()\n",
    "\n",
    "question =  f\"Identify three competitors of the {product} and the top ten physical components of each competitor.\"\n",
    "template = \" Express the answer only as a Python dictionary (with double quotes, strictly no single quotes) with the key as the product name (do not add numbering) and the value as a Python list of the ten components. If you don't know the answer to the question, strictly state ' '.\"\n",
    "prompt = question + template\n",
    "\n",
    "chat_completion = client.chat.completions.create(\n",
    "    model=\"gpt-4\",\n",
    "    messages=[{\"role\": \"user\", \"content\": prompt,}],\n",
    "    temperature=0.5,                                        # adjust persona and temperature\n",
    ")\n",
    "\n",
    "result = chat_completion.choices[0].message.content\n",
    "\n",
    "pickle.dump(result, open(\"support/%s/%s/chatgpt_competitors.pkl\" % (product, \"ChatGPT\"), \"wb\"))\n",
    "\n",
    "\"\"\" Benchmarking \"\"\"\n",
    "print(\"Benchmarking Query with ChatGPT:\")\n",
    "data_string = pd.read_pickle(\"support/%s/%s/chatgpt_competitors.pkl\" % (product, \"ChatGPT\"))\n",
    "data = json.loads(data_string)\n",
    "\n",
    "competitors = list(data.keys())\n",
    "components = list(data.values())\n",
    "client = OpenAI()\n",
    "\n",
    "for i in range(len(competitors)):\n",
    "    question = f\"Using the {product}, conduct benchmarking with {competitors[i]} with regards to these ten physical components: {data[competitors[i]]}.\"\n",
    "    template = \" Express the answer only as a Python dictionary (with double quotes, strictly no single quotes) with the key as a physical component (do not add numbering) and the value as a concised explanation with a maximum of 45 characters. If you don't know the answer to the question, strictly state 'I don't know.'.\"\n",
    "    prompt = question + template\n",
    "\n",
    "    chat_completion = client.chat.completions.create(\n",
    "        model=\"gpt-4\",\n",
    "        messages=[{\"role\": \"user\", \"content\": prompt}],\n",
    "        temperature=0.5,  # adjust persona and temperature\n",
    "    )\n",
    "\n",
    "    result = chat_completion.choices[0].message.content\n",
    "\n",
    "    pickle.dump(result, open(\"support/%s/%s/chatgpt_%s_benchmarking.pkl\" % (product, \"ChatGPT\", competitors[i]), \"wb\"))\n",
    "\n",
    "    data_string = pd.read_pickle(\"support/%s/%s/chatgpt_%s_benchmarking.pkl\" % (product, \"ChatGPT\", competitors[i]))\n",
    "    benchmarking_data = json.loads(data_string)\n",
    "\n",
    "    components = list(benchmarking_data.keys())\n",
    "    descriptions = list(benchmarking_data.values())\n",
    "\n",
    "    df = pd.DataFrame({'Component': components, 'Benchmarking': descriptions})\n",
    "\n",
    "    print(competitors[i])\n",
    "    print(df)\n",
    "    print(\"\\n\")\n"
   ]
  }
 ],
 "metadata": {
  "kernelspec": {
   "display_name": "Python 3",
   "language": "python",
   "name": "python3"
  },
  "language_info": {
   "codemirror_mode": {
    "name": "ipython",
    "version": 3
   },
   "file_extension": ".py",
   "mimetype": "text/x-python",
   "name": "python",
   "nbconvert_exporter": "python",
   "pygments_lexer": "ipython3",
   "version": "3.9.13"
  }
 },
 "nbformat": 4,
 "nbformat_minor": 2
}
