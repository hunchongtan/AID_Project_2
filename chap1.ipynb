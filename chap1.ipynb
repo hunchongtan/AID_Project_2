{
 "cells": [
  {
   "cell_type": "markdown",
   "metadata": {},
   "source": [
    "# Chapter 1: Initial Query with ChatGPT\n",
    "\n",
    "Dear user, you are part of a consulting firm tasked to: \\\n",
    "[1] identify opportunities for design improvements for a specific product \\\n",
    "[2] conduct benchmarking with competitors whenever appropriate.\n",
    "\n",
    "In this initial stage, we will initialize the **product** \\\n",
    "and gather initial insights and directions via querying a LLM (**ChatGPT**)."
   ]
  },
  {
   "cell_type": "markdown",
   "metadata": {},
   "source": [
    "### TO DO SECTION"
   ]
  },
  {
   "cell_type": "code",
   "execution_count": 25,
   "metadata": {},
   "outputs": [],
   "source": [
    "'''\n",
    "Dear user, enter your Product here!\n",
    "'''\n",
    "\n",
    "product = \"Boeing 787 Dreamliner Commercial Plane\""
   ]
  },
  {
   "cell_type": "code",
   "execution_count": 26,
   "metadata": {},
   "outputs": [],
   "source": [
    "\"\"\" Use this for a fresh set up (Comment if not needed) \"\"\"\n",
    "import os\n",
    "import shutil\n",
    "\n",
    "if os.path.exists('support'):                     # Delete 'support' folder if it exists\n",
    "    shutil.rmtree('support')"
   ]
  },
  {
   "cell_type": "markdown",
   "metadata": {},
   "source": [
    "### RUN AS INTENDED (DO NOT CHANGE ANYTHING.)"
   ]
  },
  {
   "cell_type": "markdown",
   "metadata": {},
   "source": [
    "##### Set Up"
   ]
  },
  {
   "cell_type": "code",
   "execution_count": 27,
   "metadata": {},
   "outputs": [
    {
     "name": "stdout",
     "output_type": "stream",
     "text": [
      "Requirement already satisfied: python-dotenv in c:\\users\\tanhu\\appdata\\local\\programs\\python\\python39\\lib\\site-packages (1.0.0)\n"
     ]
    }
   ],
   "source": [
    "! pip install python-dotenv"
   ]
  },
  {
   "cell_type": "code",
   "execution_count": 28,
   "metadata": {},
   "outputs": [],
   "source": [
    "\"\"\" Set up OpenAI API key \"\"\"\n",
    "import os\n",
    "from dotenv import load_dotenv\n",
    "\n",
    "load_dotenv()\n",
    "\n",
    "key = os.getenv(\"OPENAI_API_KEY\")"
   ]
  },
  {
   "cell_type": "code",
   "execution_count": 29,
   "metadata": {},
   "outputs": [],
   "source": [
    "search_terms = product"
   ]
  },
  {
   "cell_type": "code",
   "execution_count": 30,
   "metadata": {},
   "outputs": [
    {
     "name": "stdout",
     "output_type": "stream",
     "text": [
      "Directory Boeing 787 Dreamliner Commercial Plane created\n",
      "Directory ChatGPT created\n"
     ]
    }
   ],
   "source": [
    "\"\"\" Create directory \"\"\"\n",
    "import os\n",
    "\n",
    "try:                                              # Create directory named after search terms\n",
    "    os.makedirs(\"support/%s\" % search_terms)\n",
    "    print(\"Directory\", search_terms, \"created\")\n",
    "except FileExistsError:\n",
    "    print(\"Directory\", search_terms, \"exists\")\n",
    "\n",
    "try:                                              # Create directory to store ChatGPT\n",
    "    os.makedirs(\"support/%s/%s\" % (search_terms, \"ChatGPT\"))\n",
    "    print(\"Directory ChatGPT created\")\n",
    "except FileExistsError:\n",
    "    print(\"Directory ChatGPT exists\")"
   ]
  },
  {
   "cell_type": "markdown",
   "metadata": {},
   "source": [
    "##### DESIGN OPPORTUNITIES QUERY with ChatGPT"
   ]
  },
  {
   "cell_type": "code",
   "execution_count": 38,
   "metadata": {},
   "outputs": [
    {
     "name": "stdout",
     "output_type": "stream",
     "text": [
      "Design Opportunities Query with ChatGPT:\n",
      "                        Component                               Description\n",
      "0                       Batteries  Improve safety measures to prevent fires\n",
      "1                         Windows   Use self-tinting technology for comfort\n",
      "2                           Seats  Enhance ergonomics for long-haul comfort\n",
      "3                         Toilets         Incorporate touch-free technology\n",
      "4                   Overhead Bins             Design for increased capacity\n",
      "5                          Galley     Optimize layout for efficient service\n",
      "6                    Landing Gear    Lightweight materials to reduce weight\n",
      "7                     Wing Design  Improve aerodynamics for fuel efficiency\n",
      "8                  Cabin Lighting   Use mood lighting for passenger comfort\n",
      "9  In-Flight Entertainment System             Upgrade for latest technology\n"
     ]
    }
   ],
   "source": [
    "\"\"\" Design Opportunities Query with ChatGPT \"\"\"\n",
    "import pickle\n",
    "import pandas as pd\n",
    "import json\n",
    "\n",
    "from openai import OpenAI\n",
    "client = OpenAI()\n",
    "\n",
    "question =  f\"Identify and rank ten opportunities for design improvements with components in {product}.\"\n",
    "template = \" Express the answer only as a Python dictionary (with double quotes, strictly no single quotes) with the key as a physical component (do not add numbering) and the value as a concised explanation with a maximum of 45 characters. If you don't know the answer to the question, strictly state 'I don't know'.\"\n",
    "prompt = question + template\n",
    "\n",
    "chat_completion = client.chat.completions.create(\n",
    "    model=\"gpt-4\",\n",
    "    messages=[{\"role\": \"user\", \"content\": prompt,}],\n",
    "    temperature=0.5,                                        \n",
    ")\n",
    "\n",
    "result = chat_completion.choices[0].message.content\n",
    "\n",
    "pickle.dump(result, open(\"support/%s/%s/chatgpt_design_opportunities.pkl\" % (product, \"ChatGPT\"), \"wb\"))\n",
    "\n",
    "data_string = pd.read_pickle(\"support/%s/%s/chatgpt_design_opportunities.pkl\" % (product, \"ChatGPT\"))\n",
    "data = json.loads(data_string)\n",
    "\n",
    "try:\n",
    "    components = list(data.keys())\n",
    "    descriptions = list(data.values())\n",
    "\n",
    "    df = pd.DataFrame({'Component': components, 'Description': descriptions})\n",
    "\n",
    "    print(\"Design Opportunities Query with ChatGPT:\")\n",
    "    print(df)\n",
    "except:\n",
    "    print(\"Invalid Response. Please regenerate.\")\n"
   ]
  },
  {
   "cell_type": "markdown",
   "metadata": {},
   "source": [
    "##### BENCHMARKING QUERY with ChatGPT"
   ]
  },
  {
   "cell_type": "code",
   "execution_count": 39,
   "metadata": {},
   "outputs": [
    {
     "name": "stdout",
     "output_type": "stream",
     "text": [
      "Benchmarking Query with ChatGPT:\n",
      "Airbus A350 XWB\n",
      "                        Component                         Benchmarking\n",
      "0                       Batteries   787 had battery overheating issues\n",
      "1                         Windows           787's are larger, dimmable\n",
      "2                           Seats     Depends on airline configuration\n",
      "3                         Toilets  A350's are larger, more comfortable\n",
      "4                   Overhead Bins         787's are larger, more space\n",
      "5                          Galley      A350 has larger, more efficient\n",
      "6                    Landing Gear            Similar, depends on model\n",
      "7                     Wing Design  787's more flexible, fuel efficient\n",
      "8                  Cabin Lighting              Both have mood lighting\n",
      "9  In-Flight Entertainment System            Depends on airline choice\n",
      "\n",
      "\n",
      "Airbus A330neo\n",
      "                        Component                                Benchmarking\n",
      "0                       Batteries       787 uses lithium-ion, A330 uses Ni-Cd\n",
      "1                         Windows            787 has larger, dimmable windows\n",
      "2                           Seats              787 has wider seats in economy\n",
      "3                         Toilets            Both have similar toilet designs\n",
      "4                   Overhead Bins              787 bins are larger and deeper\n",
      "5                          Galley                     A330 has larger galleys\n",
      "6                    Landing Gear        Similar design, 787 has larger tires\n",
      "7                     Wing Design  787 has raked wingtips, A330 has sharklets\n",
      "8                  Cabin Lighting         787 has mood lighting, A330 has LED\n",
      "9  In-Flight Entertainment System       Varies by airline, not by plane model\n",
      "\n",
      "\n",
      "Bombardier C Series\n",
      "                        Component                          Benchmarking\n",
      "0                       Batteries  787 uses lithium-ion, C Series Ni-Cd\n",
      "1                         Windows      787 has larger, dimmable windows\n",
      "2                           Seats         787 wider seats, more legroom\n",
      "3                         Toilets           787 more spacious, advanced\n",
      "4                   Overhead Bins           787 larger, more accessible\n",
      "5                          Galley     787 larger, more efficient layout\n",
      "6                    Landing Gear             787 more robust, advanced\n",
      "7                     Wing Design       787 more aerodynamic, efficient\n",
      "8                  Cabin Lighting                 787 has mood lighting\n",
      "9  In-Flight Entertainment System            787 more advanced, diverse\n",
      "\n",
      "\n"
     ]
    }
   ],
   "source": [
    "\"\"\" BENCHMARKING QUERY with ChatGPT \"\"\"\n",
    "\n",
    "\"\"\" Get 3 competitors \"\"\"\n",
    "import pickle\n",
    "import pandas as pd\n",
    "import json\n",
    "import ast\n",
    "\n",
    "from openai import OpenAI\n",
    "client = OpenAI()\n",
    "\n",
    "question =  f\"Identify three competitors of the {product}.\"\n",
    "template = \" Express the answer only as a Python list with the product name (do not add numbering). If you don't know the answer to the question, strictly state 'I don't know'.\"\n",
    "prompt = question + template\n",
    "\n",
    "chat_completion = client.chat.completions.create(\n",
    "    model=\"gpt-4\",\n",
    "    messages=[{\"role\": \"user\", \"content\": prompt,}],\n",
    "    temperature=0.5,                                        \n",
    ")\n",
    "\n",
    "result = chat_completion.choices[0].message.content\n",
    "\n",
    "pickle.dump(result, open(\"support/%s/%s/chatgpt_competitors.pkl\" % (product, \"ChatGPT\"), \"wb\"))\n",
    "\n",
    "\"\"\" Benchmarking \"\"\"\n",
    "print(\"Benchmarking Query with ChatGPT:\")\n",
    "competitors_string = pd.read_pickle(\"support/%s/%s/chatgpt_competitors.pkl\" % (product, \"ChatGPT\"))\n",
    "competitors = ast.literal_eval(competitors_string)\n",
    "\n",
    "data_string = pd.read_pickle(\"support/%s/%s/chatgpt_design_opportunities.pkl\" % (product, \"ChatGPT\"))\n",
    "data = json.loads(data_string)\n",
    "components = list(data.keys())\n",
    "\n",
    "client = OpenAI()\n",
    "\n",
    "for i in range(len(competitors)):\n",
    "    question = f\"Using the {product}, conduct design benchmarking with {competitors[i]} with regards to these ten physical components: {components}.\"\n",
    "    template = \" Express the answer only as a Python dictionary (with double quotes, strictly no single quotes) with the key as a physical component (do not add numbering) and the value as a concised comparison explanation with a maximum of 40 characters. If you don't know the answer to the question, strictly state 'I don't know.'.\"\n",
    "    prompt = question + template\n",
    "\n",
    "    chat_completion = client.chat.completions.create(\n",
    "        model=\"gpt-4\",\n",
    "        messages=[{\"role\": \"user\", \"content\": prompt}],\n",
    "        temperature=0.5,  # adjust persona and temperature\n",
    "    )\n",
    "\n",
    "    result = chat_completion.choices[0].message.content\n",
    "\n",
    "    pickle.dump(result, open(\"support/%s/%s/chatgpt_%s_benchmarking.pkl\" % (product, \"ChatGPT\", competitors[i]), \"wb\"))\n",
    "\n",
    "    data_string = pd.read_pickle(\"support/%s/%s/chatgpt_%s_benchmarking.pkl\" % (product, \"ChatGPT\", competitors[i]))\n",
    "    benchmarking_data = json.loads(data_string)\n",
    "    try:\n",
    "        components = list(benchmarking_data.keys())\n",
    "        descriptions = list(benchmarking_data.values())\n",
    "\n",
    "        df = pd.DataFrame({'Component': components, 'Benchmarking': descriptions})\n",
    "\n",
    "        print(competitors[i])\n",
    "        print(df)\n",
    "        print(\"\\n\")\n",
    "    except:\n",
    "        print(\"Invalid Response. Please regenerate.\")"
   ]
  }
 ],
 "metadata": {
  "kernelspec": {
   "display_name": "Python 3",
   "language": "python",
   "name": "python3"
  },
  "language_info": {
   "codemirror_mode": {
    "name": "ipython",
    "version": 3
   },
   "file_extension": ".py",
   "mimetype": "text/x-python",
   "name": "python",
   "nbconvert_exporter": "python",
   "pygments_lexer": "ipython3",
   "version": "3.9.13"
  }
 },
 "nbformat": 4,
 "nbformat_minor": 2
}
