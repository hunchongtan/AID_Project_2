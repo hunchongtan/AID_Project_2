{
 "cells": [
  {
   "cell_type": "markdown",
   "metadata": {},
   "source": [
    "# Chapter 1: Initial Query with ChatGPT\n",
    "\n",
    "Dear user, you are part of a consulting firm tasked to: \\\n",
    "[1] identify opportunities for design improvements for a specific product \\\n",
    "[2] conduct benchmarking with competitors whenever appropriate.\n",
    "\n",
    "In this initial stage, we will initialize the **product** \\\n",
    "and gather initial insights and directions via querying a LLM (**ChatGPT**)."
   ]
  },
  {
   "cell_type": "markdown",
   "metadata": {},
   "source": [
    "### TO DO SECTION"
   ]
  },
  {
   "cell_type": "code",
   "execution_count": 12,
   "metadata": {},
   "outputs": [],
   "source": [
    "'''\n",
    "Dear user, enter your Product here!\n",
    "'''\n",
    "\n",
    "product = \"PICO 4 All-in-One VR Headset\""
   ]
  },
  {
   "cell_type": "markdown",
   "metadata": {},
   "source": [
    "### RUN AS INTENDED (DO NOT CHANGE ANYTHING.)"
   ]
  },
  {
   "cell_type": "markdown",
   "metadata": {},
   "source": [
    "##### Set Up"
   ]
  },
  {
   "cell_type": "code",
   "execution_count": 13,
   "metadata": {},
   "outputs": [
    {
     "name": "stdout",
     "output_type": "stream",
     "text": [
      "Requirement already satisfied: python-dotenv in c:\\users\\tanhu\\appdata\\local\\programs\\python\\python39\\lib\\site-packages (1.0.0)\n"
     ]
    }
   ],
   "source": [
    "! pip install python-dotenv"
   ]
  },
  {
   "cell_type": "code",
   "execution_count": 14,
   "metadata": {},
   "outputs": [],
   "source": [
    "\"\"\" Set up OpenAI API key \"\"\"\n",
    "import os\n",
    "from dotenv import load_dotenv\n",
    "\n",
    "load_dotenv()\n",
    "\n",
    "key = os.getenv(\"OPENAI_API_KEY\")"
   ]
  },
  {
   "cell_type": "code",
   "execution_count": 15,
   "metadata": {},
   "outputs": [
    {
     "name": "stdout",
     "output_type": "stream",
     "text": [
      "Directory PICO 4 All-in-One VR Headset created\n"
     ]
    }
   ],
   "source": [
    "\"\"\" Create directory \"\"\"\n",
    "import shutil\n",
    "\n",
    "if os.path.exists('support'):                     # Delete 'support' folder if it exists\n",
    "    shutil.rmtree('support')\n",
    "\n",
    "search_terms = product\n",
    "\n",
    "try:                                              # Create directory named after search terms\n",
    "    os.makedirs(\"support/%s\" % search_terms)\n",
    "    print(\"Directory\", search_terms, \"created\")\n",
    "except FileExistsError:\n",
    "    print(\"Directory\", search_terms, \"exists\")"
   ]
  },
  {
   "cell_type": "code",
   "execution_count": 16,
   "metadata": {},
   "outputs": [
    {
     "name": "stdout",
     "output_type": "stream",
     "text": [
      "Directory ChatGPT created\n"
     ]
    }
   ],
   "source": [
    "try:                                              # Create directory to store ChatGPT\n",
    "    os.makedirs(\"support/%s/%s\" % (search_terms, \"ChatGPT\"))\n",
    "    print(\"Directory ChatGPT created\")\n",
    "except FileExistsError:\n",
    "    print(\"Directory ChatGPT exists\")"
   ]
  },
  {
   "cell_type": "markdown",
   "metadata": {},
   "source": [
    "##### DESIGN OPPORTUNITIES QUERY with ChatGPT"
   ]
  },
  {
   "cell_type": "code",
   "execution_count": 17,
   "metadata": {},
   "outputs": [
    {
     "name": "stdout",
     "output_type": "stream",
     "text": [
      "Design Opportunities Query with ChatGPT:\n",
      "            Component                                      Description\n",
      "0            Headband                Improve comfort and adjustability\n",
      "1         Controllers             Enhance ergonomics and button layout\n",
      "2            Speakers         Improve sound quality and volume control\n",
      "3             Display          Increase resolution for clearer visuals\n",
      "4       Charging Port             Introduce fast charging capabilities\n",
      "5         Ventilation  Improve heat dissipation to prevent overheating\n",
      "6              Weight         Reduce overall weight for better comfort\n",
      "7  Software Interface           Improve user experience and navigation\n",
      "8      Motion Sensors             Enhance tracking precision and speed\n",
      "9        Battery Life               Increase duration for longer usage\n"
     ]
    }
   ],
   "source": [
    "\"\"\" Design Opportunities Query with ChatGPT \"\"\"\n",
    "import pickle\n",
    "import pandas as pd\n",
    "import json\n",
    "\n",
    "from openai import OpenAI\n",
    "client = OpenAI()\n",
    "\n",
    "question =  f\"Identify and rank ten opportunities for design improvements with the {product}.\"\n",
    "template = \" Express the answer only as a Python dictionary (with double quotes, strictly no single quotes) with the key as a physical component (do not add numbering) and the value as a concised explanation with a maximum of 45 characters. If you don't know the answer to the question, strictly state 'I don't know'.\"\n",
    "prompt = question + template\n",
    "\n",
    "chat_completion = client.chat.completions.create(\n",
    "    model=\"gpt-4\",\n",
    "    messages=[{\"role\": \"user\", \"content\": prompt,}],\n",
    "    temperature=0.5,                                        # adjust persona and temperature\n",
    ")\n",
    "\n",
    "result = chat_completion.choices[0].message.content\n",
    "\n",
    "pickle.dump(result, open(\"support/%s/%s/chatgpt_design_opportunities.pkl\" % (product, \"ChatGPT\"), \"wb\"))\n",
    "\n",
    "data_string = pd.read_pickle(\"support/%s/%s/chatgpt_design_opportunities.pkl\" % (product, \"ChatGPT\"))\n",
    "data = json.loads(data_string)\n",
    "\n",
    "components = list(data.keys())\n",
    "descriptions = list(data.values())\n",
    "\n",
    "df = pd.DataFrame({'Component': components, 'Description': descriptions})\n",
    "\n",
    "print(\"Design Opportunities Query with ChatGPT:\")\n",
    "print(df)\n"
   ]
  },
  {
   "cell_type": "markdown",
   "metadata": {},
   "source": [
    "##### BENCHMARKING QUERY with ChatGPT"
   ]
  },
  {
   "cell_type": "code",
   "execution_count": 18,
   "metadata": {},
   "outputs": [
    {
     "name": "stdout",
     "output_type": "stream",
     "text": [
      "Benchmarking Query with ChatGPT:\n",
      "Oculus Quest 2\n",
      "               Component                                    Benchmarking\n",
      "0             VR Headset  Pico is lighter, Quest 2 has better resolution\n",
      "1  Two Touch Controllers              Both have similar ergonomic design\n",
      "2         Charging Cable                     Both use USB-C for charging\n",
      "3          Power Adapter                Both have similar power adapters\n",
      "4         Glasses Spacer                  Quest 2 includes, Pico doesn't\n",
      "5             Head Strap              Quest 2 is adjustable, Pico is not\n",
      "6            USB-C Cable             Both headsets include a USB-C cable\n",
      "7           AA Batteries              Required for Quest 2, not for Pico\n",
      "8  Frame Friendly Spacer                 Included with Quest 2, not Pico\n",
      "9     Instruction Manual          Both have detailed instruction manuals\n",
      "\n",
      "\n",
      "HTC Vive Pro\n",
      "           Component                                       Benchmarking\n",
      "0         VR Headset  PICO is lighter but Vive Pro has better resolu...\n",
      "1  Two Base Stations                PICO doesn't require, Vive Pro does\n",
      "2    Two Controllers                    Both have ergonomic controllers\n",
      "3           Link Box                PICO doesn't require, Vive Pro does\n",
      "4     Power Adapters              Both need power adapters for charging\n",
      "5       Mounting Kit                Required for Vive Pro, not for PICO\n",
      "6          USB Cable                Both headsets come with a USB cable\n",
      "7         HDMI Cable                    Vive Pro requires, PICO doesn't\n",
      "8            Earbuds         Both have built-in audio, optional earbuds\n",
      "9     Cleaning Cloth                    Both come with a cleaning cloth\n",
      "\n",
      "\n",
      "Sony PlayStation VR\n",
      "                     Component                                    Benchmarking\n",
      "0                   VR Headset  Pico is lighter, Sony offers better resolution\n",
      "1               Processor Unit         Pico has integrated, Sony separate unit\n",
      "2  VR Headset Connection Cable                    Pico is wireless, Sony wired\n",
      "3                   HDMI Cable          Not required for Pico, needed for Sony\n",
      "4                    USB Cable                       Used for charging in both\n",
      "5            Stereo Headphones            Built-in for Pico, separate for Sony\n",
      "6                AC Power Cord                       Both require for charging\n",
      "7                   AC Adaptor                         Both come with adaptors\n",
      "8     PlayStation VR Demo Disc                         Not applicable for Pico\n",
      "9               Cleaning Cloth                   Both come with cleaning cloth\n",
      "\n",
      "\n"
     ]
    }
   ],
   "source": [
    "\"\"\" BENCHMARKING QUERY with ChatGPT \"\"\"\n",
    "\n",
    "\"\"\" Get 3 competitors \"\"\"\n",
    "import pickle\n",
    "import pandas as pd\n",
    "import json\n",
    "\n",
    "search_terms = product\n",
    "\n",
    "from openai import OpenAI\n",
    "client = OpenAI()\n",
    "\n",
    "question =  f\"Identify three competitors of the {product} and the top ten physical components of each competitor.\"\n",
    "template = \" Express the answer only as a Python dictionary (with double quotes, strictly no single quotes) with the key as the product name (do not add numbering) and the value as a Python list of the ten components. If you don't know the answer to the question, strictly state ' '.\"\n",
    "prompt = question + template\n",
    "\n",
    "chat_completion = client.chat.completions.create(\n",
    "    model=\"gpt-4\",\n",
    "    messages=[{\"role\": \"user\", \"content\": prompt,}],\n",
    "    temperature=0.5,                                        # adjust persona and temperature\n",
    ")\n",
    "\n",
    "result = chat_completion.choices[0].message.content\n",
    "\n",
    "pickle.dump(result, open(\"support/%s/%s/chatgpt_competitors.pkl\" % (product, \"ChatGPT\"), \"wb\"))\n",
    "\n",
    "\"\"\" Benchmarking \"\"\"\n",
    "print(\"Benchmarking Query with ChatGPT:\")\n",
    "data_string = pd.read_pickle(\"support/%s/%s/chatgpt_competitors.pkl\" % (product, \"ChatGPT\"))\n",
    "data = json.loads(data_string)\n",
    "\n",
    "competitors = list(data.keys())\n",
    "components = list(data.values())\n",
    "client = OpenAI()\n",
    "\n",
    "for i in range(len(competitors)):\n",
    "    question = f\"Using the {product}, conduct benchmarking with {competitors[i]} with regards to these ten physical components: {data[competitors[i]]}.\"\n",
    "    template = \" Express the answer only as a Python dictionary (with double quotes, strictly no single quotes) with the key as a physical component (do not add numbering) and the value as a concised explanation with a maximum of 45 characters. If you don't know the answer to the question, strictly state 'I don't know.'.\"\n",
    "    prompt = question + template\n",
    "\n",
    "    chat_completion = client.chat.completions.create(\n",
    "        model=\"gpt-4\",\n",
    "        messages=[{\"role\": \"user\", \"content\": prompt}],\n",
    "        temperature=0.5,  # adjust persona and temperature\n",
    "    )\n",
    "\n",
    "    result = chat_completion.choices[0].message.content\n",
    "\n",
    "    pickle.dump(result, open(\"support/%s/%s/chatgpt_%s_benchmarking.pkl\" % (product, \"ChatGPT\", competitors[i]), \"wb\"))\n",
    "\n",
    "    data_string = pd.read_pickle(\"support/%s/%s/chatgpt_%s_benchmarking.pkl\" % (product, \"ChatGPT\", competitors[i]))\n",
    "    benchmarking_data = json.loads(data_string)\n",
    "\n",
    "    components = list(benchmarking_data.keys())\n",
    "    descriptions = list(benchmarking_data.values())\n",
    "\n",
    "    df = pd.DataFrame({'Component': components, 'Benchmarking': descriptions})\n",
    "\n",
    "    print(competitors[i])\n",
    "    print(df)\n",
    "    print(\"\\n\")\n"
   ]
  }
 ],
 "metadata": {
  "kernelspec": {
   "display_name": "Python 3",
   "language": "python",
   "name": "python3"
  },
  "language_info": {
   "codemirror_mode": {
    "name": "ipython",
    "version": 3
   },
   "file_extension": ".py",
   "mimetype": "text/x-python",
   "name": "python",
   "nbconvert_exporter": "python",
   "pygments_lexer": "ipython3",
   "version": "3.9.13"
  }
 },
 "nbformat": 4,
 "nbformat_minor": 2
}
